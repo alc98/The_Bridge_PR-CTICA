{
 "cells": [
  {
   "cell_type": "code",
   "execution_count": null,
   "id": "51551bef",
   "metadata": {},
   "outputs": [],
   "source": [
    "############################################################################################################################<3\n",
    "############################################################################################################################<3\n",
    "############################################################################################################################<3\n",
    "\n",
    "                                    #FASE 0 DEFINICIÓN DE FUNCIONES"
   ]
  },
  {
   "cell_type": "code",
   "execution_count": 3,
   "id": "95d5a2f6",
   "metadata": {},
   "outputs": [
    {
     "name": "stdout",
     "output_type": "stream",
     "text": [
      "[[  1   2   3   4   5   6   7   8   9  10  11  12  13  14  15]\n",
      " [ 16  17  18  19  20  21  22  23  24  25  26  27  28  29  30]\n",
      " [ 31  32  33  34  35  36  37  38  39  40  41  42  43  44  45]\n",
      " [ 46  47  48  49  50  51  52  53  54  55  56  57  58  59  60]\n",
      " [ 61  62  63  64  65  66  67  68  69  70  71  72  73  74  75]\n",
      " [ 76  77  78  79  80  81  82  83  84  85  86  87  88  89  90]\n",
      " [ 91  92  93  94  95  96  97  98  99 100 101 102 103 104 105]\n",
      " [106 107 108 109 110 111 112 113 114 115 116 117 118 119 120]\n",
      " [121 122 123 124 125 126 127 128 129 130 131 132 133 134 135]\n",
      " [136 137 138 139 140 141 142 143 144 145 146 147 148 149 150]\n",
      " [151 152 153 154 155 156 157 158 159 160 161 162 163 164 165]\n",
      " [166 167 168 169 170 171 172 173 174 175 176 177 178 179 180]\n",
      " [181 182 183 184 185 186 187 188 189 190 191 192 193 194 195]\n",
      " [196 197 198 199 200 201 202 203 204 205 206 207 208 209 210]\n",
      " [211 212 213 214 215 216 217 218 219 220 221 222 223 224 225]]\n"
     ]
    }
   ],
   "source": [
    "import numpy as np\n",
    "\n",
    "tablero = np.arange(1, 226).reshape(15, 15)\n",
    "print(tablero)"
   ]
  },
  {
   "cell_type": "code",
   "execution_count": 4,
   "id": "7b5d32cb",
   "metadata": {},
   "outputs": [
    {
     "name": "stdout",
     "output_type": "stream",
     "text": [
      "[[  1   2   3   4   5   6   7   8   9  10  11  12  13  14  15]\n",
      " [ 16  17  18  19  20  21  22  23  24  25  26  27  28  29  30]\n",
      " [ 31  32  33  34  35  36  37  38  39  40  41  42  43  44  45]\n",
      " [ 46  47  48  49  50  51  52  53  54  55  56  57  58  59  60]\n",
      " [ 61  62  63  64  65  66  67  68  69  70  71  72  73  74  75]\n",
      " [ 76  77  78  79  80  81  82  83  84  85  86  87  88  89  90]\n",
      " [ 91  92  93  94  95  96  97  98  99 100 101 102 103 104 105]\n",
      " [106 107 108 109 110 111 112 113 114 115 116 117 118 119 120]\n",
      " [121 122 123 124 125 126 127 128 129 130 131 132 133 134 135]\n",
      " [136 137 138 139 140 141 142 143 144 145 146 147 148 149 150]\n",
      " [151 152 153 154 155 156 157 158 159 160 161 162 163 164 165]\n",
      " [166 167 168 169 170 171 172 173 174 175 176 177 178 179 180]\n",
      " [181 182 183 184 185 186 187 188 189 190 191 192 193 194 195]\n",
      " [196 197 198 199 200 201 202 203 204 205 206 207 208 209 210]\n",
      " [211 212 213 214 215 216 217 218 219 220 221 222 223 224 225]]\n"
     ]
    }
   ],
   "source": [
    "import numpy as np\n",
    "\n",
    "def tablero_numerado(lado=15):\n",
    "    #  Así tenemos una lista de 225 números consecutivos, genera todos los números del 1 al 225 , el límite superior, 226, no se incluye\n",
    "    tablero = np.arange(1, lado * lado + 1).reshape(lado, lado)\n",
    "    return tablero\n",
    "\n",
    "tablero = tablero_numerado(15)\n",
    "print(tablero)"
   ]
  },
  {
   "cell_type": "code",
   "execution_count": 5,
   "id": "16d0018e",
   "metadata": {},
   "outputs": [
    {
     "name": "stdout",
     "output_type": "stream",
     "text": [
      "[[  1   2   3   4   5   6   7   8   9  10  11  12  13  14  15]\n",
      " [ 16  17  18  19  20  21  22  23  24  25  26  27  28  29  30]\n",
      " [ 31  32  33  34  35  36  37  38  39  40  41  42  43  44  45]\n",
      " [ 46  47  48  49  50  51  52  53  54  55  56  57  58  59  60]\n",
      " [ 61  62  63  64  65  66  67  68  69  70  71  72  73  74  75]\n",
      " [ 76  77  78  79  80  81  82  83  84  85  86  87  88  89  90]\n",
      " [ 91  92  93  94  95  96  97  98  99 100 101 102 103 104 105]\n",
      " [106 107 108 109 110 111 112 113 114 115 116 117 118 119 120]\n",
      " [121 122 123 124 125 126 127 128 129 130 131 132 133 134 135]\n",
      " [136 137 138 139 140 141 142 143 144 145 146 147 148 149 150]\n",
      " [151 152 153 154 155 156 157 158 159 160 161 162 163 164 165]\n",
      " [166 167 168 169 170 171 172 173 174 175 176 177 178 179 180]\n",
      " [181 182 183 184 185 186 187 188 189 190 191 192 193 194 195]\n",
      " [196 197 198 199 200 201 202 203 204 205 206 207 208 209 210]\n",
      " [211 212 213 214 215 216 217 218 219 220 221 222 223 224 225]]\n"
     ]
    }
   ],
   "source": [
    "tablero = tablero_numerado(15)\n",
    "\n",
    "# Crear una copia independiente\n",
    "tablero_dos = tablero.copy()\n",
    "print(tablero_dos)"
   ]
  },
  {
   "cell_type": "code",
   "execution_count": 6,
   "id": "68f8fcaa",
   "metadata": {},
   "outputs": [
    {
     "name": "stdout",
     "output_type": "stream",
     "text": [
      "Tablero original :\n",
      "[[  1   2   3   4   5   6   7   8   9  10  11  12  13  14  15]\n",
      " [ 16  17  18  19  20  21  22  23  24  25  26  27  28  29  30]\n",
      " [ 31  32  33  34  35  36  37  38  39  40  41  42  43  44  45]\n",
      " [ 46  47  48  49  50  51  52  53  54  55  56  57  58  59  60]\n",
      " [ 61  62  63  64  65  66  67  68  69  70  71  72  73  74  75]\n",
      " [ 76  77  78  79  80  81  82  83  84  85  86  87  88  89  90]\n",
      " [ 91  92  93  94  95  96  97  98  99 100 101 102 103 104 105]\n",
      " [106 107 108 109 110 111 112 113 114 115 116 117 118 119 120]\n",
      " [121 122 123 124 125 126 127 128 129 130 131 132 133 134 135]\n",
      " [136 137 138 139 140 141 142 143 144 145 146 147 148 149 150]\n",
      " [151 152 153 154 155 156 157 158 159 160 161 162 163 164 165]\n",
      " [166 167 168 169 170 171 172 173 174 175 176 177 178 179 180]\n",
      " [181 182 183 184 185 186 187 188 189 190 191 192 193 194 195]\n",
      " [196 197 198 199 200 201 202 203 204 205 206 207 208 209 210]\n",
      " [211 212 213 214 215 216 217 218 219 220 221 222 223 224 225]]\n",
      "Tablero copia modificado:\n",
      "[[  1   2   3   4   5   6   7   8   9   0  11  12  13  14  15]\n",
      " [ 16  17  18  19   0  21  22  23  24  25  26  27  28  29   0]\n",
      " [ 31  32  33  34  35  36  37  38  39   0  41  42  43  44  45]\n",
      " [ 46  47  48  49   0  51  52  53  54  55  56  57  58  59   0]\n",
      " [ 61  62  63  64  65  66  67  68  69   0  71  72  73  74  75]\n",
      " [ 76  77  78  79   0  81  82  83  84  85  86  87  88  89   0]\n",
      " [ 91  92  93  94  95  96  97  98  99   0 101 102 103 104 105]\n",
      " [106 107 108 109   0 111 112 113 114 115 116 117 118 119   0]\n",
      " [121 122 123 124 125 126 127 128 129   0 131 132 133 134 135]\n",
      " [136 137 138 139   0 141 142 143 144 145 146 147 148 149   0]\n",
      " [151 152 153 154 155 156 157 158 159   0 161 162 163 164 165]\n",
      " [166 167 168 169   0 171 172 173 174 175 176 177 178 179   0]\n",
      " [181 182 183 184 185 186 187 188 189   0 191 192 193 194 195]\n",
      " [196 197 198 199   0 201 202 203 204 205 206 207 208 209   0]\n",
      " [211 212 213 214 215 216 217 218 219   0 221 222 223 224 225]]\n"
     ]
    }
   ],
   "source": [
    "tablero_alpha = tablero.copy()\n",
    "tablero = tablero_numerado(15)\n",
    "\n",
    "# Iterar y modificar solo la copia\n",
    "for i in range(tablero_alpha.shape[0]):         #Filas\n",
    "    for j in range(tablero_alpha.shape[1]):     #columnas\n",
    "        if tablero_alpha[i, j] % 10 == 0:       # si es multip.lo de 10, lo cambia por 0\n",
    "            tablero_alpha[i, j] = \"0\"\n",
    "\n",
    "print(\"Tablero original :\")\n",
    "print(tablero)\n",
    "\n",
    "print(\"Tablero copia modificado:\")\n",
    "print(tablero_alpha)"
   ]
  },
  {
   "cell_type": "code",
   "execution_count": 7,
   "id": "63a74942",
   "metadata": {},
   "outputs": [
    {
     "name": "stdout",
     "output_type": "stream",
     "text": [
      "[[  1   2   3   4   5   6   7   8   9  10  11  12  13  14  15]\n",
      " [ 16  17  18  19  20  21  22  23  24  25  26  27  28  29  30]\n",
      " [ 31  32  33  34  35  36  37  38  39  40  41  42  43  44  45]\n",
      " [ 46  47  48  49  50  51  52  53  54  55  56  57  58  59  60]\n",
      " [ 61  62  63  64  65  66  67  68  69  70  71  72  73  74  75]\n",
      " [ 76  77  78  79  80  81  82  83  84  85  86  87  88  89  90]\n",
      " [ 91  92  93  94  95  96  97  98  99 100 101 102 103 104 105]\n",
      " [106 107 108 109 110 111 112 113 114 115 116 117 118 119 120]\n",
      " [121 122 123 124 125 126 127 128 129 130 131 132 133 134 135]\n",
      " [136 137 138 139 140 141 142 143 144 145 146 147 148 149 150]\n",
      " [151 152 153 154 155 156 157 158 159 160 161 162 163 164 165]\n",
      " [166 167 168 169 170 171 172 173 174 175 176 177 178 179 180]\n",
      " [181 182 183 184 185 186 187 188 189 190 191 192 193 194 195]\n",
      " [196 197 198 199 200 201 202 203 204 205 206 207 208 209 210]\n",
      " [211 212 213 214 215 216 217 218 219 220 221 222 223 224 225]]\n"
     ]
    }
   ],
   "source": [
    "tablero_dos = tablero.copy()\n",
    "print(tablero_dos)"
   ]
  },
  {
   "cell_type": "code",
   "execution_count": 17,
   "id": "9e144248",
   "metadata": {},
   "outputs": [
    {
     "ename": "NameError",
     "evalue": "name 'tablero' is not defined",
     "output_type": "error",
     "traceback": [
      "\u001b[1;31m---------------------------------------------------------------------------\u001b[0m",
      "\u001b[1;31mNameError\u001b[0m                                 Traceback (most recent call last)",
      "Cell \u001b[1;32mIn[17], line 1\u001b[0m\n\u001b[1;32m----> 1\u001b[0m tablero_dos \u001b[38;5;241m=\u001b[39m \u001b[43mtablero\u001b[49m\u001b[38;5;241m.\u001b[39mcopy()\n\u001b[0;32m      3\u001b[0m barco1 \u001b[38;5;241m=\u001b[39m [(\u001b[38;5;241m0\u001b[39m,\u001b[38;5;241m1\u001b[39m),(\u001b[38;5;241m1\u001b[39m,\u001b[38;5;241m1\u001b[39m)] \u001b[38;5;66;03m#Aunque hayas cambiado a numeros hasta el 226, python sigue identificando sus valores, coordenadas (0,1),(1,1)\u001b[39;00m\n\u001b[0;32m      4\u001b[0m \u001b[38;5;28;01mdef\u001b[39;00m\u001b[38;5;250m \u001b[39m\u001b[38;5;21mcoloca_barco\u001b[39m(tablero_dos, barco):\n",
      "\u001b[1;31mNameError\u001b[0m: name 'tablero' is not defined"
     ]
    }
   ],
   "source": [
    "tablero_dos = tablero.copy()\n",
    "\n",
    "barco1 = [(0,1),(1,1)] #Aunque hayas cambiado a numeros hasta el 226, python sigue identificando sus valores, coordenadas (0,1),(1,1)\n",
    "def coloca_barco(tablero_dos, barco):\n",
    "    for pieza in barco:\n",
    "        tablero_dos[pieza] = \"0\" \n",
    "    return tablero_dos\n",
    "\n",
    "tablero_dos = coloca_barco(tablero_dos, barco1) #Tablero_dos NO crea un nuevo tablero a partir del tablero \n",
    "print(tablero_dos)"
   ]
  },
  {
   "cell_type": "code",
   "execution_count": null,
   "id": "2a1e8fc9",
   "metadata": {},
   "outputs": [],
   "source": [
    "#NO MODIFICAR CELDAS SUPERIORES YA QUE SI NO NUMPHY DETECTARÁ LA COPIA COMO VALORES ORIGINALES"
   ]
  },
  {
   "cell_type": "code",
   "execution_count": 9,
   "id": "99d2cdac",
   "metadata": {},
   "outputs": [
    {
     "name": "stdout",
     "output_type": "stream",
     "text": [
      "[[  1   0   3   4   5   6   7   8   9  10  11  12  13  14  15]\n",
      " [ 16   0  18   0   0   0   0  23  24  25  26  27  28  29  30]\n",
      " [ 31  32  33  34  35  36  37  38  39  40  41  42  43  44  45]\n",
      " [ 46  47  48  49  50  51  52  53  54  55  56  57  58  59  60]\n",
      " [ 61  62  63  64  65  66  67  68  69  70  71  72  73  74  75]\n",
      " [ 76  77  78  79  80  81  82  83  84  85  86  87  88  89  90]\n",
      " [ 91  92  93  94  95  96  97  98  99 100 101 102 103 104 105]\n",
      " [106 107 108 109 110 111 112 113 114 115 116 117 118 119 120]\n",
      " [121 122 123 124 125 126 127 128 129 130 131 132 133 134 135]\n",
      " [136 137 138 139 140 141 142 143 144 145 146 147 148 149 150]\n",
      " [151 152 153 154 155 156 157 158 159 160 161 162 163 164 165]\n",
      " [166 167 168 169 170 171 172 173 174 175 176 177 178 179 180]\n",
      " [181 182 183 184 185 186 187 188 189 190 191 192 193 194 195]\n",
      " [196 197 198 199 200 201 202 203 204 205 206 207 208 209 210]\n",
      " [211 212 213 214 215 216 217 218 219 220 221 222 223 224 225]]\n"
     ]
    }
   ],
   "source": [
    "tablero_dos = tablero.copy()\n",
    "\n",
    "barco1 = [(0, 1), (1, 1)]\n",
    "barco2 = [(1, 3), (1, 4), (1, 5), (1, 6)]\n",
    "\n",
    "for barco in [barco1, barco2]:\n",
    "    tablero_dos = coloca_barco(tablero_dos, barco)\n",
    "\n",
    "print(tablero_dos)"
   ]
  },
  {
   "cell_type": "code",
   "execution_count": null,
   "id": "78c8d8d5",
   "metadata": {},
   "outputs": [],
   "source": [
    "import numpy as np\n",
    "\n",
    "def tablero_numerado(lado=15):\n",
    "    tablero = np.arange(1, lado * lado + 1).reshape(lado, lado)\n",
    "    return tablero.astype(object)\n",
    "\n",
    "def coloca_barco(tablero, barco):\n",
    "    for pieza in barco:\n",
    "        tablero[pieza] = \"🚢\"\n",
    "    return tablero\n",
    "\n",
    "# Crear tablero base y colocar barcos\n",
    "tablero_dos = tablero_numerado(15)\n",
    "barco1 = [(0, 1), (1, 1)]\n",
    "barco2 = [(1, 3), (1, 4), (1, 5), (1, 6)]\n",
    "for barco in [barco1, barco2]:\n",
    "    tablero_dos = coloca_barco(tablero_dos, barco)\n"
   ]
  },
  {
   "cell_type": "code",
   "execution_count": null,
   "id": "d1ad1cdd",
   "metadata": {},
   "outputs": [],
   "source": [
    "# Función de disparo \n",
    "def recibir_disparo(tablero_dos, coordenada):\n",
    "    if tablero_dos[coordenada] == \"🚢\":\n",
    "        tablero_dos[coordenada] = \"💥\"\n",
    "        print(\"¡Tocado!\")\n",
    "    elif tablero_dos[coordenada] == \"💥\" or tablero_dos[coordenada] == \"🌊\":\n",
    "        print(\"Ya has disparado aquí, elige otra casilla.\")\n",
    "    else:\n",
    "        tablero_dos[coordenada] = \"🌊\"\n",
    "        print(\"Agua\")"
   ]
  },
  {
   "cell_type": "code",
   "execution_count": null,
   "id": "00ac5640",
   "metadata": {},
   "outputs": [
    {
     "name": "stdout",
     "output_type": "stream",
     "text": [
      "¡Tocado!\n",
      "Agua\n",
      "Ya has disparado aquí, elige otra casilla.\n",
      "\n",
      "Tablero después de los disparos:\n",
      "[[1 '💥' 3 4 5 6 7 8 9 10 11 12 13 14 15]\n",
      " [16 '🚢' 18 '🚢' '🚢' '🚢' '🚢' 23 24 25 26 27 28 29 30]\n",
      " [31 32 '🌊' 34 35 36 37 38 39 40 41 42 43 44 45]\n",
      " [46 47 48 49 50 51 52 53 54 55 56 57 58 59 60]\n",
      " [61 62 63 64 65 66 67 68 69 70 71 72 73 74 75]\n",
      " [76 77 78 79 80 81 82 83 84 85 86 87 88 89 90]\n",
      " [91 92 93 94 95 96 97 98 99 100 101 102 103 104 105]\n",
      " [106 107 108 109 110 111 112 113 114 115 116 117 118 119 120]\n",
      " [121 122 123 124 125 126 127 128 129 130 131 132 133 134 135]\n",
      " [136 137 138 139 140 141 142 143 144 145 146 147 148 149 150]\n",
      " [151 152 153 154 155 156 157 158 159 160 161 162 163 164 165]\n",
      " [166 167 168 169 170 171 172 173 174 175 176 177 178 179 180]\n",
      " [181 182 183 184 185 186 187 188 189 190 191 192 193 194 195]\n",
      " [196 197 198 199 200 201 202 203 204 205 206 207 208 209 210]\n",
      " [211 212 213 214 215 216 217 218 219 220 221 222 223 224 225]]\n"
     ]
    }
   ],
   "source": [
    "# --- Disparos de ejemplo ---\n",
    "recibir_disparo(tablero_dos, (0, 1))  # Tocado\n",
    "recibir_disparo(tablero_dos, (2, 2))  # Agua\n",
    "recibir_disparo(tablero_dos, (0, 1))  # Repetido\n",
    "\n",
    "print(\"\\nTablero después de los disparos:\")\n",
    "print(tablero_dos)"
   ]
  },
  {
   "cell_type": "code",
   "execution_count": null,
   "id": "eeca0c69",
   "metadata": {},
   "outputs": [],
   "source": [
    "#Mejora del output para que sea menos monotono y mas interactivo\n",
    "import numpy as np\n",
    "\n",
    "tablero = np.arange(1, 226).reshape(15, 15).astype(object)\n",
    "\n",
    "barco1 = [(0, 1), (1, 1)]\n",
    "barco2 = [(1, 3), (1, 4), (1, 5), (1, 6)]\n",
    "for barco in [barco1, barco2]:\n",
    "    for pieza in barco:\n",
    "        tablero[pieza] = \"🚢\"\n",
    "\n",
    "def recibir_disparo(tablero_dos, coordenada):\n",
    "    if tablero_dos[coordenada] == \"🚢\":\n",
    "        tablero_dos[coordenada] = \"💥\"\n",
    "        print(\"💥 ¡Tocado!\")\n",
    "    elif tablero_dos[coordenada] in [\"💥\", \"🌊\"]:\n",
    "        print(\"⚠️ Ya has disparado aquí, elige otra casilla.\")\n",
    "    else:\n",
    "        tablero_dos[coordenada] = \"🌊\"\n",
    "        print(\"🌊 Agua\")"
   ]
  },
  {
   "cell_type": "code",
   "execution_count": null,
   "id": "1d04a5a8",
   "metadata": {},
   "outputs": [
    {
     "name": "stdout",
     "output_type": "stream",
     "text": [
      "💥 ¡Tocado!\n",
      "🌊 Agua\n",
      "⚠️ Ya has disparado aquí, elige otra casilla.\n",
      "\n",
      "🔹 Tablero después de los disparos:\n",
      "\n",
      "001   💥 003 004 005 006 007 008 009 010 011 012 013 014 015\n",
      "016   🚢 018   🚢   🚢   🚢   🚢 023 024 025 026 027 028 029 030\n",
      "031 032   🌊 034 035 036 037 038 039 040 041 042 043 044 045\n",
      "046 047 048 049 050 051 052 053 054 055 056 057 058 059 060\n",
      "061 062 063 064 065 066 067 068 069 070 071 072 073 074 075\n",
      "076 077 078 079 080 081 082 083 084 085 086 087 088 089 090\n",
      "091 092 093 094 095 096 097 098 099 100 101 102 103 104 105\n",
      "106 107 108 109 110 111 112 113 114 115 116 117 118 119 120\n",
      "121 122 123 124 125 126 127 128 129 130 131 132 133 134 135\n",
      "136 137 138 139 140 141 142 143 144 145 146 147 148 149 150\n",
      "151 152 153 154 155 156 157 158 159 160 161 162 163 164 165\n",
      "166 167 168 169 170 171 172 173 174 175 176 177 178 179 180\n",
      "181 182 183 184 185 186 187 188 189 190 191 192 193 194 195\n",
      "196 197 198 199 200 201 202 203 204 205 206 207 208 209 210\n",
      "211 212 213 214 215 216 217 218 219 220 221 222 223 224 225\n"
     ]
    }
   ],
   "source": [
    "# --- Disparos de ejemplo ---\n",
    "recibir_disparo(tablero, (0, 1))\n",
    "recibir_disparo(tablero, (2, 2))\n",
    "recibir_disparo(tablero, (0, 1))\n",
    "\n",
    "\n",
    "print(\"\\n🔹 Tablero después de los disparos:\\n\")\n",
    "\n",
    "for fila in tablero:\n",
    "    print(\" \".join(f\"{str(x).zfill(3) if isinstance(x, int) else x:>3}\" for x in fila))"
   ]
  },
  {
   "cell_type": "code",
   "execution_count": null,
   "id": "7cba51ad",
   "metadata": {},
   "outputs": [],
   "source": [
    "# DAMOS VALORES COHERENTES PARA QUE EL OUTPUT SEA ORDENADO\n",
    "def recibir_disparo(tablero_dos, coordenada):\n",
    "    if tablero_dos[coordenada] == \"BBB\":\n",
    "        tablero_dos[coordenada] = \"X0X\"\n",
    "        print(\"💥 ¡Tocado!\")\n",
    "    elif tablero_dos[coordenada] in [\"X0X\", \"AAA\"]:\n",
    "        print(\"⚠️ Ya has disparado aquí, elige otra casilla.\")\n",
    "    else:\n",
    "        tablero_dos[coordenada] = \"000\"\n",
    "        print(\"🌊 Agua\")"
   ]
  },
  {
   "cell_type": "code",
   "execution_count": null,
   "id": "67b5511f",
   "metadata": {},
   "outputs": [
    {
     "name": "stdout",
     "output_type": "stream",
     "text": [
      "💥 ¡Tocado!\n",
      "🌊 Agua\n",
      "⚠️ Ya has disparado aquí, elige otra casilla.\n",
      "\n",
      "🔹 Tablero después de los disparos:\n",
      "\n",
      "001 X0X 003 004 005 006 007 008 009 010 011 012 013 BBB 015\n",
      "016 BBB 018 BBB BBB BBB BBB 023 024 025 026 027 028 BBB 030\n",
      "031 032 000 034 035 036 037 038 039 040 041 042 043 BBB 045\n",
      "046 047 048 049 050 051 052 053 054 055 056 057 058 BBB 060\n",
      "061 062 063 064 065 066 067 068 069 070 071 072 073 BBB 075\n",
      "076 077 078 079 080 081 082 083 084 085 BBB 087 088 089 090\n",
      "091 092 093 094 095 096 097 098 099 100 BBB 102 103 104 105\n",
      "106 107 108 109 110 111 112 113 114 115 BBB 117 118 119 120\n",
      "121 122 123 124 125 126 127 128 129 130 131 132 133 134 135\n",
      "136 137 138 139 140 141 142 143 144 145 146 147 148 149 150\n",
      "151 152 153 154 155 156 157 158 159 160 161 162 163 164 165\n",
      "166 167 168 169 170 171 172 173 174 175 176 177 178 179 180\n",
      "181 182 183 184 185 186 187 188 189 190 191 192 193 194 195\n",
      "196 197 198 199 200 201 202 203 204 205 206 207 208 209 210\n",
      "211 212 213 214 215 216 217 218 219 220 221 222 223 224 225\n"
     ]
    }
   ],
   "source": [
    "# --- Ejemplo de disparos ---\n",
    "recibir_disparo(tablero, (0, 1))  # Tocado\n",
    "recibir_disparo(tablero, (2, 2))  # Agua\n",
    "recibir_disparo(tablero, (0, 1))  # Repetido\n",
    "\n",
    "print(\"\\n🔹 Tablero después de los disparos:\\n\")\n",
    "#ARREGLAMOS LA ALINEACIÓN DEL OUTPUT\n",
    "for fila in tablero:\n",
    "    print(\" \".join(f\"{str(x).zfill(3) if isinstance(x, int) else f'{x:>3}'}\" for x in fila))\n"
   ]
  },
  {
   "cell_type": "code",
   "execution_count": null,
   "id": "2af0ba5d",
   "metadata": {},
   "outputs": [],
   "source": [
    "# 🧭 Leyenda del tablero:\n",
    "# Tocado → \"X0X\"\n",
    "# Barco  → \"BBB\"\n",
    "# Agua   → \"000\"\n",
    "# Number → \n",
    "\n",
    "BARCO = \"BBB\"\n",
    "TOCADO = \"X0X\"\n",
    "AGUA = \"AAA\""
   ]
  },
  {
   "cell_type": "code",
   "execution_count": 22,
   "id": "a80b77f2",
   "metadata": {},
   "outputs": [
    {
     "data": {
      "text/plain": [
       "array([[False,  True, False, False, False, False, False, False, False,\n",
       "        False, False, False, False, False, False],\n",
       "       [False, False, False, False, False, False, False, False, False,\n",
       "        False, False, False, False, False, False],\n",
       "       [False, False, False, False, False, False, False, False, False,\n",
       "        False, False, False, False, False, False],\n",
       "       [False, False, False, False, False, False, False, False, False,\n",
       "        False, False, False, False, False, False],\n",
       "       [False, False, False, False, False, False, False, False, False,\n",
       "        False, False, False, False, False, False],\n",
       "       [False, False, False, False, False, False, False, False, False,\n",
       "        False, False, False, False, False, False],\n",
       "       [False, False, False, False, False, False, False, False, False,\n",
       "        False, False, False, False, False, False],\n",
       "       [False, False, False, False, False, False, False, False, False,\n",
       "        False, False, False, False, False, False],\n",
       "       [False, False, False, False, False, False, False, False, False,\n",
       "        False, False, False, False, False, False],\n",
       "       [False, False, False, False, False, False, False, False, False,\n",
       "        False, False, False, False, False, False],\n",
       "       [False, False, False, False, False, False, False, False, False,\n",
       "        False, False, False, False, False, False],\n",
       "       [False, False, False, False, False, False, False, False, False,\n",
       "        False, False, False, False, False, False],\n",
       "       [False, False, False, False, False, False, False, False, False,\n",
       "        False, False, False, False, False, False],\n",
       "       [False, False, False, False, False, False, False, False, False,\n",
       "        False, False, False, False, False, False],\n",
       "       [False, False, False, False, False, False, False, False, False,\n",
       "        False, False, False, False, False, False]])"
      ]
     },
     "execution_count": 22,
     "metadata": {},
     "output_type": "execute_result"
    }
   ],
   "source": [
    "tablero == \"X0X\""
   ]
  },
  {
   "cell_type": "code",
   "execution_count": 24,
   "id": "cf85ddd8",
   "metadata": {},
   "outputs": [
    {
     "data": {
      "text/plain": [
       "array([[False, False, False, False, False, False, False, False, False,\n",
       "        False, False, False, False, False, False],\n",
       "       [False, False, False, False, False, False, False, False, False,\n",
       "        False, False, False, False, False, False],\n",
       "       [False, False,  True, False, False, False, False, False, False,\n",
       "        False, False, False, False, False, False],\n",
       "       [False, False, False, False, False, False, False, False, False,\n",
       "        False, False, False, False, False, False],\n",
       "       [False, False, False, False, False, False, False, False, False,\n",
       "        False, False, False, False, False, False],\n",
       "       [False, False, False, False, False, False, False, False, False,\n",
       "        False, False, False, False, False, False],\n",
       "       [False, False, False, False, False, False, False, False, False,\n",
       "        False, False, False, False, False, False],\n",
       "       [False, False, False, False, False, False, False, False, False,\n",
       "        False, False, False, False, False, False],\n",
       "       [False, False, False, False, False, False, False, False, False,\n",
       "        False, False, False, False, False, False],\n",
       "       [False, False, False, False, False, False, False, False, False,\n",
       "        False, False, False, False, False, False],\n",
       "       [False, False, False, False, False, False, False, False, False,\n",
       "        False, False, False, False, False, False],\n",
       "       [False, False, False, False, False, False, False, False, False,\n",
       "        False, False, False, False, False, False],\n",
       "       [False, False, False, False, False, False, False, False, False,\n",
       "        False, False, False, False, False, False],\n",
       "       [False, False, False, False, False, False, False, False, False,\n",
       "        False, False, False, False, False, False],\n",
       "       [False, False, False, False, False, False, False, False, False,\n",
       "        False, False, False, False, False, False]])"
      ]
     },
     "execution_count": 24,
     "metadata": {},
     "output_type": "execute_result"
    }
   ],
   "source": [
    "tablero == \"000\"\n",
    "#Miramos el agua, es importante hidratarse bien"
   ]
  },
  {
   "cell_type": "code",
   "execution_count": null,
   "id": "77135b81",
   "metadata": {},
   "outputs": [],
   "source": [
    "# Función para reparar barcos y limpiar aguas \n",
    "def arregla_barcos(tablero):\n",
    "    for i in range(tablero.shape[0]):\n",
    "        for j in range(tablero.shape[1]):\n",
    "            valor = tablero[i, j]\n",
    "            if valor == \"X0X\":  # Repara barcos dañados\n",
    "                tablero[i, j] = \"BBB\"\n",
    "            elif valor == \"000\":  # Limpia aguas y repone número original\n",
    "                tablero[i, j] = str(i * tablero.shape[1] + j + 1).zfill(3)\n",
    "    return tablero"
   ]
  },
  {
   "cell_type": "code",
   "execution_count": null,
   "id": "3df73f7e",
   "metadata": {},
   "outputs": [
    {
     "name": "stdout",
     "output_type": "stream",
     "text": [
      "\n",
      "🔹 Tablero reparado y limpio:\n",
      "\n",
      "001 BBB 003 004 005 006 007 008 009 010 011 012 013 014 015\n",
      "016 BBB 018 BBB BBB BBB BBB 023 024 025 026 027 028 029 030\n",
      "031 032 033 034 035 036 037 038 039 040 041 042 043 044 045\n",
      "046 047 048 049 050 051 052 053 054 055 056 057 058 059 060\n",
      "061 062 063 064 065 066 067 068 069 070 071 072 073 074 075\n",
      "076 077 078 079 080 081 082 083 084 085 086 087 088 089 090\n",
      "091 092 093 094 095 096 097 098 099 100 101 102 103 104 105\n",
      "106 107 108 109 110 111 112 113 114 115 116 117 118 119 120\n",
      "121 122 123 124 125 126 127 128 129 130 131 132 133 134 135\n",
      "136 137 138 139 140 141 142 143 144 145 146 147 148 149 150\n",
      "151 152 153 154 155 156 157 158 159 160 161 162 163 164 165\n",
      "166 167 168 169 170 171 172 173 174 175 176 177 178 179 180\n",
      "181 182 183 184 185 186 187 188 189 190 191 192 193 194 195\n",
      "196 197 198 199 200 201 202 203 204 205 206 207 208 209 210\n",
      "211 212 213 214 215 216 217 218 219 220 221 222 223 224 225\n"
     ]
    }
   ],
   "source": [
    "# Aplicar reparación \n",
    "tablero_reparado = arregla_barcos(tablero)\n",
    "\n",
    "\n",
    "print(\"\\n🔹 Tablero reparado y limpio:\\n\")\n",
    "for fila in tablero_reparado:\n",
    "    print(\" \".join(f\"{str(x).zfill(3) if isinstance(x, int) else f'{x:>3}'}\" for x in fila))\n"
   ]
  },
  {
   "cell_type": "code",
   "execution_count": null,
   "id": "7eeef494",
   "metadata": {},
   "outputs": [],
   "source": [
    "def coloca_barco_plus(tablero, barco):\n",
    "    \"\"\"\n",
    "    Coloca un barco en el tablero solo si todas las posiciones son válidas.\n",
    "    Devuelve el nuevo tablero si se puede colocar, o False si no.\n",
    "    \"\"\"\n",
    "    tablero_temp = tablero.copy()\n",
    "    num_max_filas, num_max_columnas = tablero.shape\n",
    "\n",
    "    for pieza in barco:\n",
    "        fila, columna = pieza\n",
    "\n",
    "        # Verificar límites del tablero\n",
    "        if fila < 0 or fila >= num_max_filas:\n",
    "            print(f\"❌ No puedo poner la pieza {pieza}: fuera del tablero (fila inválida)\")\n",
    "            return False\n",
    "        if columna < 0 or columna >= num_max_columnas:\n",
    "            print(f\"❌ No puedo poner la pieza {pieza}: fuera del tablero (columna inválida)\")\n",
    "            return False\n",
    "\n",
    "        # Verificar colisiones con otros barcos\n",
    "        if tablero[fila, columna] in [\"BBB\", \"X0X\"]:\n",
    "            print(f\"⚠️ No puedo poner la pieza {pieza}: ya hay un barco en esa posición\")\n",
    "            return False\n",
    "\n",
    "        # Si todo está bien, colocar barco en el tablero temporal\n",
    "        tablero_temp[fila, columna] = \"BBB\"\n",
    "\n",
    "    print(f\"✅ Barco colocado en posiciones: {barco}\")\n",
    "    return tablero_temp\n"
   ]
  },
  {
   "cell_type": "code",
   "execution_count": null,
   "id": "28a669be",
   "metadata": {},
   "outputs": [
    {
     "name": "stdout",
     "output_type": "stream",
     "text": [
      "✅ Barco colocado en posiciones: [(3, 10), (3, 11), (3, 12)]\n",
      "\n",
      "🔹 Tablero después de colocar el nuevo barco:\n",
      "\n",
      "001 BBB 003 004 005 006 007 008 009 010 011 012 013 014 015\n",
      "016 BBB 018 BBB BBB BBB BBB 023 024 025 026 027 028 029 030\n",
      "031 032 033 034 035 036 037 038 039 040 041 042 043 044 045\n",
      "046 047 048 049 050 051 052 053 054 055 BBB BBB BBB 059 060\n",
      "061 062 063 064 065 066 067 068 069 070 071 072 073 074 075\n",
      "076 077 078 079 080 081 082 083 084 085 086 087 088 089 090\n",
      "091 092 093 094 095 096 097 098 099 100 101 102 103 104 105\n",
      "106 107 108 109 110 111 112 113 114 115 116 117 118 119 120\n",
      "121 122 123 124 125 126 127 128 129 130 131 132 133 134 135\n",
      "136 137 138 139 140 141 142 143 144 145 146 147 148 149 150\n",
      "151 152 153 154 155 156 157 158 159 160 161 162 163 164 165\n",
      "166 167 168 169 170 171 172 173 174 175 176 177 178 179 180\n",
      "181 182 183 184 185 186 187 188 189 190 191 192 193 194 195\n",
      "196 197 198 199 200 201 202 203 204 205 206 207 208 209 210\n",
      "211 212 213 214 215 216 217 218 219 220 221 222 223 224 225\n"
     ]
    }
   ],
   "source": [
    "barco3 = [(3, 10), (3, 11), (3, 12)]\n",
    "nuevo_tablero = coloca_barco_plus(tablero, barco3)\n",
    "\n",
    "# Actualizar si la colocación fue válida \n",
    "if isinstance(nuevo_tablero, np.ndarray):\n",
    "    tablero = nuevo_tablero\n",
    "\n",
    "# Imprimir tablero alineado \n",
    "print(\"\\n🔹 Tablero después de colocar el nuevo barco:\\n\")\n",
    "\n",
    "for fila in tablero:\n",
    "    print(\" \".join(f\"{str(x).zfill(3) if isinstance(x, int) else f'{x:>3}'}\" for x in fila))"
   ]
  },
  {
   "cell_type": "code",
   "execution_count": null,
   "id": "3625e727",
   "metadata": {},
   "outputs": [
    {
     "name": "stdout",
     "output_type": "stream",
     "text": [
      "⚠️ No puedo poner la pieza (3, 10): ya hay un barco en esa posición\n",
      "⛔ Volviendo al tablero original...\n",
      "❌ No puedo poner la pieza (14, 15): fuera del tablero (columna inválida)\n",
      "⛔ Volviendo al tablero original...\n",
      "\n",
      "🔹 Tablero final:\n",
      "\n",
      "001 BBB 003 004 005 006 007 008 009 010 011 012 013 014 015\n",
      "016 BBB 018 BBB BBB BBB BBB 023 024 025 026 027 028 029 030\n",
      "031 032 033 034 035 036 037 038 039 040 041 042 043 044 045\n",
      "046 047 048 049 050 051 052 053 054 055 BBB BBB BBB 059 060\n",
      "061 062 063 064 065 066 067 068 069 070 071 072 073 074 075\n",
      "076 077 078 079 080 081 082 083 084 085 086 087 088 089 090\n",
      "091 092 093 094 095 096 097 098 099 100 101 102 103 104 105\n",
      "106 107 108 109 110 111 112 113 114 115 116 117 118 119 120\n",
      "121 122 123 124 125 126 127 128 129 130 131 132 133 134 135\n",
      "136 137 138 139 140 141 142 143 144 145 146 147 148 149 150\n",
      "151 152 153 154 155 156 157 158 159 160 161 162 163 164 165\n",
      "166 167 168 169 170 171 172 173 174 175 176 177 178 179 180\n",
      "181 182 183 184 185 186 187 188 189 190 191 192 193 194 195\n",
      "196 197 198 199 200 201 202 203 204 205 206 207 208 209 210\n",
      "211 212 213 214 215 216 217 218 219 220 221 222 223 224 225\n"
     ]
    }
   ],
   "source": [
    "def coloca_barco_plus(tablero, barco):\n",
    "    \"\"\"\n",
    "    Coloca un barco en el tablero solo si todas las posiciones son válidas.\n",
    "    Si hay un error, muestra un aviso y devuelve el tablero original sin modificar.\n",
    "    \"\"\"\n",
    "    tablero_temp = tablero.copy()\n",
    "    num_max_filas, num_max_columnas = tablero.shape\n",
    "\n",
    "    for pieza in barco:\n",
    "        fila, columna = pieza\n",
    "\n",
    "        # Verificar límites del tablero\n",
    "        if fila < 0 or fila >= num_max_filas:\n",
    "            print(f\"❌ No puedo poner la pieza {pieza}: fuera del tablero (fila inválida)\")\n",
    "            print(\"⛔ Volviendo al tablero original...\")\n",
    "            return tablero  # ← Mantiene el original\n",
    "\n",
    "        if columna < 0 or columna >= num_max_columnas:\n",
    "            print(f\"❌ No puedo poner la pieza {pieza}: fuera del tablero (columna inválida)\")\n",
    "            print(\"⛔ Volviendo al tablero original...\")\n",
    "            return tablero  \n",
    "\n",
    "        # Verificar colisiones con otros barcos\n",
    "        if tablero[fila, columna] in [\"BBB\", \"X0X\"]:\n",
    "            print(f\"⚠️ No puedo poner la pieza {pieza}: ya hay un barco en esa posición\")\n",
    "            print(\"⛔ Volviendo al tablero original...\")\n",
    "            return tablero \n",
    "\n",
    "        # Si todo está bien, colocar barco temporalmente\n",
    "        tablero_temp[fila, columna] = \"BBB\"\n",
    "\n",
    "    print(f\"✅ Barco colocado correctamente en posiciones: {barco}\")\n",
    "    return tablero_temp\n"
   ]
  },
  {
   "cell_type": "code",
   "execution_count": null,
   "id": "12c6f2e4",
   "metadata": {},
   "outputs": [
    {
     "ename": "NameError",
     "evalue": "name 'tablero' is not defined",
     "output_type": "error",
     "traceback": [
      "\u001b[1;31m---------------------------------------------------------------------------\u001b[0m",
      "\u001b[1;31mNameError\u001b[0m                                 Traceback (most recent call last)",
      "Cell \u001b[1;32mIn[5], line 3\u001b[0m\n\u001b[0;32m      1\u001b[0m \u001b[38;5;66;03m# --- Intentar colocar un nuevo barco (correcto) ---\u001b[39;00m\n\u001b[0;32m      2\u001b[0m barco3 \u001b[38;5;241m=\u001b[39m [(\u001b[38;5;241m3\u001b[39m, \u001b[38;5;241m10\u001b[39m), (\u001b[38;5;241m3\u001b[39m, \u001b[38;5;241m11\u001b[39m), (\u001b[38;5;241m3\u001b[39m, \u001b[38;5;241m12\u001b[39m)]\n\u001b[1;32m----> 3\u001b[0m tablero \u001b[38;5;241m=\u001b[39m coloca_barco_plus(\u001b[43mtablero\u001b[49m, barco3)\n\u001b[0;32m      5\u001b[0m \u001b[38;5;66;03m# --- Intentar colocar un barco fuera del tablero (incorrecto) ---\u001b[39;00m\n\u001b[0;32m      6\u001b[0m barco_mal \u001b[38;5;241m=\u001b[39m [(\u001b[38;5;241m14\u001b[39m, \u001b[38;5;241m15\u001b[39m), (\u001b[38;5;241m14\u001b[39m, \u001b[38;5;241m16\u001b[39m)]  \u001b[38;5;66;03m# 16 está fuera del tablero\u001b[39;00m\n",
      "\u001b[1;31mNameError\u001b[0m: name 'tablero' is not defined"
     ]
    }
   ],
   "source": [
    "# Intentar colocar un nuevo barco (correcto) \n",
    "barco3 = [(3, 10), (3, 11), (3, 12)]\n",
    "tablero = coloca_barco_plus(tablero, barco3)\n",
    "\n",
    "# Intentar colocar un barco fuera del tablero (incorrecto) \n",
    "barco_mal = [(14, 15), (14, 16)]  # 16 está fuera del tablero\n",
    "tablero = coloca_barco_plus(tablero, barco_mal)\n",
    "\n",
    "\n",
    "print(\"\\n🔹 Tablero final:\\n\")\n",
    "\n",
    "for fila in tablero:\n",
    "    print(\" \".join(f\"{str(x).zfill(3) if isinstance(x, int) else f'{x:>3}'}\" for x in fila))"
   ]
  },
  {
   "cell_type": "code",
   "execution_count": null,
   "id": "1fee3784",
   "metadata": {},
   "outputs": [],
   "source": [
    "# Nueva función: crear barco aleatorio y colocarlo \n",
    "def crea_barco_aleatorio(tablero, eslora=4, num_intentos=100):\n",
    "    \"\"\"\n",
    "    Crea y coloca un barco de forma aleatoria en el tablero.\n",
    "    Si no se puede colocar tras varios intentos, muestra aviso y devuelve el tablero sin cambios.\n",
    "    \"\"\"\n",
    "    num_max_filas, num_max_columnas = tablero.shape\n",
    "\n",
    "    for intento in range(num_intentos):\n",
    "        barco = []\n",
    "\n",
    "        # Escoger posición inicial\n",
    "        pieza_original = (random.randint(0, num_max_filas - 1), random.randint(0, num_max_columnas - 1))\n",
    "        orientacion = random.choice([\"N\", \"S\", \"E\", \"O\"])\n",
    "\n",
    "        fila, columna = pieza_original\n",
    "        barco.append(pieza_original)\n",
    "\n",
    "        # Construir barco según orientación\n",
    "        for _ in range(eslora - 1):\n",
    "            if orientacion == \"N\":\n",
    "                fila -= 1\n",
    "            elif orientacion == \"S\":\n",
    "                fila += 1\n",
    "            elif orientacion == \"E\":\n",
    "                columna += 1\n",
    "            elif orientacion == \"O\":\n",
    "                columna -= 1\n",
    "            barco.append((fila, columna))\n",
    "\n",
    "        # Intentar colocar barco\n",
    "        tablero_temp = coloca_barco_plus(tablero, barco)\n",
    "        if not np.array_equal(tablero_temp, tablero):  # Si se modificó, fue exitoso\n",
    "            return tablero_temp\n",
    "\n",
    "        print(f\"🔁 Intento {intento+1}/{num_intentos}: no se pudo colocar el barco. Reintentando...\")\n",
    "\n",
    "    print(\"🚫 No se pudo colocar el barco tras varios intentos.\")\n",
    "    return tablero\n",
    "\n"
   ]
  },
  {
   "cell_type": "markdown",
   "id": "f88723eb",
   "metadata": {},
   "source": [
    "Ahora lo iteramos todo junto ya que si no da error"
   ]
  },
  {
   "cell_type": "code",
   "execution_count": null,
   "id": "841418c0",
   "metadata": {},
   "outputs": [
    {
     "name": "stdout",
     "output_type": "stream",
     "text": [
      "✅ Barco colocado correctamente en posiciones: [(13, 9), (12, 9), (11, 9), (10, 9), (9, 9)]\n",
      "✅ Barco colocado correctamente en posiciones: [(6, 8), (5, 8), (4, 8)]\n",
      "\n",
      "🔹 Tablero final con barcos aleatorios:\n",
      "\n",
      "001 BBB 003 004 005 006 007 008 009 010 011 012 013 014 015\n",
      "016 BBB 018 BBB BBB BBB BBB 023 024 025 026 027 028 029 030\n",
      "031 032 033 034 035 036 037 038 039 040 041 042 043 044 045\n",
      "046 047 048 049 050 051 052 053 054 055 056 057 058 059 060\n",
      "061 062 063 064 065 066 067 068 BBB 070 071 072 073 074 075\n",
      "076 077 078 079 080 081 082 083 BBB 085 086 087 088 089 090\n",
      "091 092 093 094 095 096 097 098 BBB 100 101 102 103 104 105\n",
      "106 107 108 109 110 111 112 113 114 115 116 117 118 119 120\n",
      "121 122 123 124 125 126 127 128 129 130 131 132 133 134 135\n",
      "136 137 138 139 140 141 142 143 144 BBB 146 147 148 149 150\n",
      "151 152 153 154 155 156 157 158 159 BBB 161 162 163 164 165\n",
      "166 167 168 169 170 171 172 173 174 BBB 176 177 178 179 180\n",
      "181 182 183 184 185 186 187 188 189 BBB 191 192 193 194 195\n",
      "196 197 198 199 200 201 202 203 204 BBB 206 207 208 209 210\n",
      "211 212 213 214 215 216 217 218 219 220 221 222 223 224 225\n"
     ]
    }
   ],
   "source": [
    "\n",
    "# Ejemplo de uso \n",
    "tablero = crea_barco_aleatorio(tablero, eslora=5)\n",
    "tablero = crea_barco_aleatorio(tablero, eslora=3)\n"
   ]
  },
  {
   "cell_type": "code",
   "execution_count": 66,
   "id": "5eb1652e",
   "metadata": {},
   "outputs": [
    {
     "name": "stdout",
     "output_type": "stream",
     "text": [
      "❌ No puedo poner la pieza (15, 6): fuera del tablero.\n",
      "⛔ Volviendo al tablero original...\n",
      "🔁 Intento 1/100: no se pudo colocar el barco. Reintentando...\n",
      "❌ No puedo poner la pieza (15, 13): fuera del tablero.\n",
      "⛔ Volviendo al tablero original...\n",
      "🔁 Intento 2/100: no se pudo colocar el barco. Reintentando...\n",
      "❌ No puedo poner la pieza (10, -1): fuera del tablero.\n",
      "⛔ Volviendo al tablero original...\n",
      "🔁 Intento 3/100: no se pudo colocar el barco. Reintentando...\n",
      "⚠️ No puedo poner la pieza (1, 1): ya hay un barco ahí.\n",
      "⛔ Volviendo al tablero original...\n",
      "🔁 Intento 4/100: no se pudo colocar el barco. Reintentando...\n",
      "⚠️ No puedo poner la pieza (10, 9): ya hay un barco ahí.\n",
      "⛔ Volviendo al tablero original...\n",
      "🔁 Intento 5/100: no se pudo colocar el barco. Reintentando...\n",
      "⚠️ No puedo poner la pieza (1, 1): ya hay un barco ahí.\n",
      "⛔ Volviendo al tablero original...\n",
      "🔁 Intento 6/100: no se pudo colocar el barco. Reintentando...\n",
      "❌ No puedo poner la pieza (11, -1): fuera del tablero.\n",
      "⛔ Volviendo al tablero original...\n",
      "🔁 Intento 7/100: no se pudo colocar el barco. Reintentando...\n",
      "❌ No puedo poner la pieza (3, 15): fuera del tablero.\n",
      "⛔ Volviendo al tablero original...\n",
      "🔁 Intento 8/100: no se pudo colocar el barco. Reintentando...\n",
      "❌ No puedo poner la pieza (13, -1): fuera del tablero.\n",
      "⛔ Volviendo al tablero original...\n",
      "🔁 Intento 9/100: no se pudo colocar el barco. Reintentando...\n",
      "❌ No puedo poner la pieza (10, 15): fuera del tablero.\n",
      "⛔ Volviendo al tablero original...\n",
      "🔁 Intento 10/100: no se pudo colocar el barco. Reintentando...\n",
      "✅ Barco colocado correctamente en posiciones: [(14, 10), (13, 10), (12, 10), (11, 10), (10, 10), (9, 10)]\n"
     ]
    }
   ],
   "source": [
    "tablero = crea_barco_aleatorio(tablero, eslora = 6)"
   ]
  },
  {
   "cell_type": "code",
   "execution_count": null,
   "id": "f6927d4b",
   "metadata": {},
   "outputs": [
    {
     "name": "stdout",
     "output_type": "stream",
     "text": [
      "❌ No puedo poner la pieza (8, -1): fuera del tablero.\n",
      "⛔ Volviendo al tablero original...\n",
      "🔁 Intento 1/100: no se pudo colocar el barco. Reintentando...\n",
      "❌ No puedo poner la pieza (14, -1): fuera del tablero.\n",
      "⛔ Volviendo al tablero original...\n",
      "🔁 Intento 2/100: no se pudo colocar el barco. Reintentando...\n",
      "❌ No puedo poner la pieza (1, 15): fuera del tablero.\n",
      "⛔ Volviendo al tablero original...\n",
      "🔁 Intento 3/100: no se pudo colocar el barco. Reintentando...\n",
      "✅ Barco colocado correctamente en posiciones: [(4, 13), (3, 13), (2, 13), (1, 13), (0, 13)]\n",
      "✅ Barco colocado correctamente en posiciones: [(5, 10), (6, 10), (7, 10)]\n",
      "\n",
      "🔹 Tablero final con barcos aleatorios:\n",
      "\n",
      "001 BBB 003 004 005 006 007 008 009 010 011 012 013 BBB 015\n",
      "016 BBB 018 BBB BBB BBB BBB 023 024 025 026 027 028 BBB 030\n",
      "031 032 033 034 035 036 037 038 039 040 041 042 043 BBB 045\n",
      "046 047 048 049 050 051 052 053 054 055 056 057 058 BBB 060\n",
      "061 062 063 064 065 066 067 068 069 070 071 072 073 BBB 075\n",
      "076 077 078 079 080 081 082 083 084 085 BBB 087 088 089 090\n",
      "091 092 093 094 095 096 097 098 099 100 BBB 102 103 104 105\n",
      "106 107 108 109 110 111 112 113 114 115 BBB 117 118 119 120\n",
      "121 122 123 124 125 126 127 128 129 130 131 132 133 134 135\n",
      "136 137 138 139 140 141 142 143 144 145 146 147 148 149 150\n",
      "151 152 153 154 155 156 157 158 159 160 161 162 163 164 165\n",
      "166 167 168 169 170 171 172 173 174 175 176 177 178 179 180\n",
      "181 182 183 184 185 186 187 188 189 190 191 192 193 194 195\n",
      "196 197 198 199 200 201 202 203 204 205 206 207 208 209 210\n",
      "211 212 213 214 215 216 217 218 219 220 221 222 223 224 225\n"
     ]
    }
   ],
   "source": [
    "print(\"\\n🔹 Tablero final con barcos aleatorios:\\n\")\n",
    "for fila in tablero:\n",
    "    print(\" \".join(f\"{str(x).zfill(3) if isinstance(x, int) else f'{x:>3}'}\" for x in fila))\n"
   ]
  },
  {
   "cell_type": "code",
   "execution_count": null,
   "id": "549f0bb6",
   "metadata": {},
   "outputs": [],
   "source": [
    "############################################################################################################################<3\n",
    "############################################################################################################################<3\n",
    "############################################################################################################################<3\n",
    "\n",
    "                                    #FASE 1 MVP"
   ]
  },
  {
   "cell_type": "code",
   "execution_count": null,
   "id": "3e36bf5f",
   "metadata": {},
   "outputs": [],
   "source": [
    "# Mostrar tablero inicial\n",
    "def mostrar_tablero(tablero):\n",
    "    for fila in tablero:\n",
    "        print(\" \".join(f\"{str(x).zfill(3) if isinstance(x, int) else x:>3}\" for x in fila))\n",
    "    print()\n",
    "\n",
    "\n"
   ]
  },
  {
   "cell_type": "code",
   "execution_count": null,
   "id": "0ba6afc4",
   "metadata": {},
   "outputs": [],
   "source": [
    "# Pedir Coordenadas del jugador formato(4,5)\n",
    "def pedir_coord():\n",
    "    try:\n",
    "        entrada = input(\"Introduce coordenada : \")\n",
    "        f, c = map(int, entrada.replace(\" \", \"\").split(\",\"))\n",
    "        return (f, c)\n",
    "    except:\n",
    "        print(\"Formato incorrecto (ej: 3,5)\")\n",
    "        return pedir_coord()\n"
   ]
  },
  {
   "cell_type": "code",
   "execution_count": null,
   "id": "9b8f858e",
   "metadata": {},
   "outputs": [],
   "source": [
    "\n",
    "# Coordenadas del jugador + CODIGO DE SALIR \n",
    "def pedir_coord():\n",
    "    entrada = input(\"Introduce coordenada (fila,columna) o escribe 'salir' para terminar: \").strip().lower()\n",
    "    if entrada == \"salir\":\n",
    "        return \"salir\"\n",
    "    try:\n",
    "        f, c = map(int, entrada.replace(\" \", \"\").split(\",\"))\n",
    "        return (f, c)\n",
    "    except:\n",
    "        print(\"❌ Formato incorrecto. Usa: fila,columna (ej: 3,5)\")\n",
    "        return pedir_coord()\n"
   ]
  },
  {
   "cell_type": "code",
   "execution_count": null,
   "id": "cdb59848",
   "metadata": {},
   "outputs": [],
   "source": [
    "# Iniciar tablero\n",
    "tab_jugador = crear_tablero()\n",
    "tab_cpu = crear_tablero()\n"
   ]
  },
  {
   "cell_type": "code",
   "execution_count": null,
   "id": "b4d2a026",
   "metadata": {},
   "outputs": [],
   "source": [
    "# Colocar barcos (2)\n",
    "tab_jugador = crea_barco_aleatorio(tab_jugador, 4)\n",
    "tab_jugador = crea_barco_aleatorio(tab_jugador, 3)\n",
    "tab_cpu = crea_barco_aleatorio(tab_cpu, 4)\n",
    "tab_cpu = crea_barco_aleatorio(tab_cpu, 3)\n",
    "\n",
    "print(\"🚢 ¡A HUNDIR LA FLOTA! 🚢\")"
   ]
  },
  {
   "cell_type": "code",
   "execution_count": null,
   "id": "0afa119a",
   "metadata": {},
   "outputs": [],
   "source": [
    "# Bucle Jugable\n",
    "while True:\n",
    "    print(\"\\nTu tablero:\")\n",
    "    mostrar_tablero(tab_jugador)\n",
    "    print(\"Disparos a CPU:\")\n",
    "    mostrar_tablero(tab_cpu)\n",
    "\n",
    "    # Turno jugador\n",
    "    coord = pedir_coord()\n",
    "    recibir_disparo(tab_cpu, coord)\n",
    "\n",
    "    # ¿CPU hundida?\n",
    "    if not np.any(tab_cpu == BARCO):\n",
    "        print(\"🏆 ¡VAYA PALIZA!\")\n",
    "        break\n",
    "\n",
    "    # Turno CPU\n",
    "    cpu_coord = (random.randint(0, 14), random.randint(0, 14))\n",
    "    print(f\"🎯 CPU dispara a {cpu_coord}\")\n",
    "    recibir_disparo(tab_jugador, cpu_coord)\n",
    "\n",
    "    # ¿Jugador hundido?\n",
    "    if not np.any(tab_jugador == BARCO):\n",
    "        print(\"💀 Has perdido...\")\n",
    "        break"
   ]
  },
  {
   "cell_type": "code",
   "execution_count": 9,
   "id": "533fd3e9",
   "metadata": {},
   "outputs": [
    {
     "name": "stdout",
     "output_type": "stream",
     "text": [
      "⛔ El barco se sale del tablero.\n",
      "⛔ El barco se sale del tablero.\n",
      "🚢 ¡Comienza la batalla! 🚢\n",
      "\n",
      "Tu tablero:\n",
      "001 002 003 004 005 006 007 008 009 010 011 012 013 014 015\n",
      "016 017 018 019 020 021 022 023 024 025 026 027 028 029 030\n",
      "031 032 033 034 035 036 037 038 039 040 041 042 043 044 045\n",
      "046 047 048 049 050 051 052 053 054 055 056 057 058 059 060\n",
      "061 062 063 064 065 066 067 068 069 070 071 072 073 074 075\n",
      "076 077 078 079 080 081 082 083 084 085 086 087 088 089 090\n",
      "091 092 093 094 095 096 097 098 099 100 101 102 103 104 105\n",
      "106 107 108 109 110 111 112 113 114 115 116 117 118 119 120\n",
      "121 122 123 124 125 126 127 128 BBB 130 131 132 133 134 135\n",
      "136 137 138 139 140 141 142 143 BBB 145 146 147 148 149 150\n",
      "151 152 153 154 155 156 157 158 BBB 160 161 162 163 164 165\n",
      "BBB BBB BBB BBB 170 171 172 173 174 175 176 177 178 179 180\n",
      "181 182 183 184 185 186 187 188 189 190 191 192 193 194 195\n",
      "196 197 198 199 200 201 202 203 204 205 206 207 208 209 210\n",
      "211 212 213 214 215 216 217 218 219 220 221 222 223 224 225\n",
      "\n",
      "Disparos a CPU:\n",
      "001 002 003 004 005 006 007 008 009 010 011 012 013 014 015\n",
      "016 017 018 019 020 BBB BBB BBB 024 025 026 027 028 029 030\n",
      "031 032 033 034 035 036 037 038 039 040 041 042 043 044 045\n",
      "046 047 048 049 050 051 052 053 054 055 056 057 058 059 060\n",
      "061 062 063 064 065 066 067 068 069 070 071 072 073 074 075\n",
      "076 077 078 079 080 081 082 083 084 085 086 087 088 089 090\n",
      "091 092 093 094 095 096 097 098 099 100 101 102 103 104 105\n",
      "106 107 108 109 110 111 112 113 114 115 116 117 118 119 120\n",
      "121 122 123 124 125 126 127 128 129 130 131 132 133 134 135\n",
      "136 137 138 139 140 141 142 143 144 145 146 147 148 149 150\n",
      "151 152 153 154 155 156 157 158 159 160 161 162 163 164 165\n",
      "166 167 168 169 170 171 172 173 BBB 175 176 177 178 179 180\n",
      "181 182 183 184 185 186 187 188 BBB 190 191 192 193 194 195\n",
      "196 197 198 199 200 201 202 203 BBB 205 206 207 208 209 210\n",
      "211 212 213 214 215 216 217 218 BBB 220 221 222 223 224 225\n",
      "\n"
     ]
    },
    {
     "ename": "ValueError",
     "evalue": "too many values to unpack (expected 2)",
     "output_type": "error",
     "traceback": [
      "\u001b[1;31m---------------------------------------------------------------------------\u001b[0m",
      "\u001b[1;31mValueError\u001b[0m                                Traceback (most recent call last)",
      "Cell \u001b[1;32mIn[9], line 98\u001b[0m\n\u001b[0;32m     96\u001b[0m \u001b[38;5;66;03m# Turno jugador\u001b[39;00m\n\u001b[0;32m     97\u001b[0m coord \u001b[38;5;241m=\u001b[39m pedir_coord()\n\u001b[1;32m---> 98\u001b[0m \u001b[43mrecibir_disparo\u001b[49m\u001b[43m(\u001b[49m\u001b[43mtab_cpu\u001b[49m\u001b[43m,\u001b[49m\u001b[43m \u001b[49m\u001b[43mcoord\u001b[49m\u001b[43m)\u001b[49m\n\u001b[0;32m    100\u001b[0m \u001b[38;5;66;03m# ¿CPU hundida?\u001b[39;00m\n\u001b[0;32m    101\u001b[0m \u001b[38;5;28;01mif\u001b[39;00m \u001b[38;5;129;01mnot\u001b[39;00m np\u001b[38;5;241m.\u001b[39many(tab_cpu \u001b[38;5;241m==\u001b[39m BARCO):\n",
      "Cell \u001b[1;32mIn[9], line 49\u001b[0m, in \u001b[0;36mrecibir_disparo\u001b[1;34m(tablero, coord)\u001b[0m\n\u001b[0;32m     48\u001b[0m \u001b[38;5;28;01mdef\u001b[39;00m\u001b[38;5;250m \u001b[39m\u001b[38;5;21mrecibir_disparo\u001b[39m(tablero, coord):\n\u001b[1;32m---> 49\u001b[0m     f, c \u001b[38;5;241m=\u001b[39m coord\n\u001b[0;32m     50\u001b[0m     \u001b[38;5;28;01mif\u001b[39;00m tablero[f, c] \u001b[38;5;241m==\u001b[39m BARCO:\n\u001b[0;32m     51\u001b[0m         tablero[f, c] \u001b[38;5;241m=\u001b[39m TOCADO\n",
      "\u001b[1;31mValueError\u001b[0m: too many values to unpack (expected 2)"
     ]
    }
   ],
   "source": [
    "python hundirlaflota.py\n"
   ]
  }
 ],
 "metadata": {
  "kernelspec": {
   "display_name": "Python 3",
   "language": "python",
   "name": "python3"
  },
  "language_info": {
   "codemirror_mode": {
    "name": "ipython",
    "version": 3
   },
   "file_extension": ".py",
   "mimetype": "text/x-python",
   "name": "python",
   "nbconvert_exporter": "python",
   "pygments_lexer": "ipython3",
   "version": "3.10.11"
  }
 },
 "nbformat": 4,
 "nbformat_minor": 5
}
