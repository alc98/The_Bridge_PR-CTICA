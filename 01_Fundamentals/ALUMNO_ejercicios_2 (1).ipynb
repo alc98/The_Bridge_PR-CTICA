{
 "cells": [
  {
   "cell_type": "markdown",
   "id": "062d81e8",
   "metadata": {},
   "source": [
    "#### Ejercicio 1\n",
    "\n",
    "Disponemos de una lista con información sobre varios empleados:\n",
    "\n",
    "    empleados = [[12345, \"Juan Rodríguez\", 53, [\"Director financiero\"], 2],[56789, \"Laura Pérez\", 41, [\"CEO\", \"Director\", \"Gerente\"], 2],[88354, \"Pedro Álvarez\", 26, [\"Asistente\",\"Gestor comercial\"], 3]]\n",
    "\n",
    "Respecto de cada empleado, la lista contiene cinco elementos: en el primero almacenamos su tfno, en el segundo su nombre, en el tercero su edad, en el cuarto los puestos que ha desempeñado en la empresa (en forma de lista) y en el quinto su código postal.\n",
    "\n",
    "1. Siguiendo la misma estructura, incluye un nuevo empleado en la última posición de la lista empleados.\n",
    "\n",
    "2. Mostrar por pantalla, sin uso de funciones (salvo print) ni bucles: \n",
    "\n",
    "    - El nombre y la edad del tercer empleado de la lista empleados.\n",
    "    - Los puestos desempeñados por Pedro Álvarez, ordenados de atras a adelante (es decir, de Gestor comercial a Asistente)\n",
    "    - Si el nuevo empleado que has añadido tiene más o igual a 60 años, muestra por pantalla los puestos que el nuevo empleado haya desempeñado en la empresa. En caso contrario, muestra los puestos desempeñados por Laura Pérez y Juan Rodriguez."
   ]
  },
  {
   "cell_type": "code",
   "execution_count": 2,
   "id": "e895a3e4",
   "metadata": {},
   "outputs": [],
   "source": [
    "empleados = [\n",
    "    [12345, \"Juan Rodríguez\", 53, [\"Director financiero\"], 2],\n",
    "    [56789, \"Laura Pérez\", 41, [\"CEO\", \"Director\", \"Gerente\"], 2],\n",
    "    [88354, \"Pedro Álvarez\", 26, [\"Asistente\", \"Gestor comercial\"], 3],\n",
    "    [99887, \"María Gómez\", 35, [\"Contable\", \"Analista\"], 4]\n",
    "]"
   ]
  },
  {
   "cell_type": "code",
   "execution_count": 3,
   "id": "ea800a8e",
   "metadata": {},
   "outputs": [],
   "source": [
    "empleados.append([99887, \"Maria Luisa\", 35, [\"Contable\", \"Analista\"], 4])\n"
   ]
  },
  {
   "cell_type": "code",
   "execution_count": 4,
   "id": "9bba07a9",
   "metadata": {},
   "outputs": [
    {
     "data": {
      "text/plain": [
       "[[12345, 'Juan Rodríguez', 53, ['Director financiero'], 2],\n",
       " [56789, 'Laura Pérez', 41, ['CEO', 'Director', 'Gerente'], 2],\n",
       " [88354, 'Pedro Álvarez', 26, ['Asistente', 'Gestor comercial'], 3],\n",
       " [99887, 'María Gómez', 35, ['Contable', 'Analista'], 4],\n",
       " [99887, 'Maria Luisa', 35, ['Contable', 'Analista'], 4]]"
      ]
     },
     "execution_count": 4,
     "metadata": {},
     "output_type": "execute_result"
    }
   ],
   "source": [
    "empleados"
   ]
  },
  {
   "cell_type": "code",
   "execution_count": null,
   "id": "728c2095",
   "metadata": {},
   "outputs": [
    {
     "name": "stdout",
     "output_type": "stream",
     "text": [
      "Pedro Álvarez 26\n",
      "['Gestor comercial', 'Asistente']\n",
      "['CEO', 'Director', 'Gerente', 'Director financiero']\n"
     ]
    }
   ],
   "source": [
    "r = print(empleados[2][1], empleados[2][2])\n",
    "x = print(empleados[2][3][::-1])\n",
    "s = print(empleados[3][3] if empleados[3][2] >= 60 else empleados[1][3] + empleados[0][3])"
   ]
  },
  {
   "cell_type": "markdown",
   "id": "4da89624-0da3-4f91-aa5c-a084c5ee1b17",
   "metadata": {},
   "source": [
    "#### Ejercicio 2. \n",
    "\n",
    "Escribe un programa que te diga si una letra es una consonante o una vocal. Crea tu propia **FUNCIÓN**\n"
   ]
  },
  {
   "cell_type": "code",
   "execution_count": 29,
   "id": "abf6d48b",
   "metadata": {},
   "outputs": [
    {
     "name": "stdout",
     "output_type": "stream",
     "text": [
      "R es una CONSONANTE.\n"
     ]
    }
   ],
   "source": [
    "def tipo_letra(letra):\n",
    "    letra = letra.lower()# Convertimos a minúscula para evitar errores\n",
    "    if letra in \"aeiou\":\n",
    "        return f\"{letra.upper()} es una VOCAL.\"\n",
    "    else:\n",
    "        return f\"{letra.upper()} es una CONSONANTE.\"\n",
    "\n",
    "print(tipo_letra(input(\"Escribe una letra: \")))"
   ]
  },
  {
   "cell_type": "markdown",
   "id": "52065a6c-3d4c-44c0-a10b-958506c481b3",
   "metadata": {},
   "source": [
    "#### Ejercicio 3. \n",
    "\n",
    "Escribe un programa que calcule la edad humana de un perro.\n",
    "Tienes que pedirle al usuario la edad del perro en años.\n",
    "Si el usuario introduce un número negativo, imprime que la cifra facilitada no tiene sentido. Si el perro tiene un año, son 14 años humanos. Si tiene 2 años, son 22 años humanos.\n",
    "A partir de los 2 años, el cálculo es el siguiente: a la edad del perro se le restan 2 años, el resultado se multiplica por 5 y, finalmente, se le suma 22.\n",
    "Usa una función sin argumentos de entrada ni de salida (muestra toda la información con print())"
   ]
  },
  {
   "cell_type": "code",
   "execution_count": 2,
   "id": "9c59c801-1fe1-4a6d-a000-f85ca738ed00",
   "metadata": {},
   "outputs": [
    {
     "name": "stdout",
     "output_type": "stream",
     "text": [
      "Tu perro tiene 47.0 años humanos.\n"
     ]
    }
   ],
   "source": [
    "def calcular_edad_perro():\n",
    "    edad_perro = float(input(\"Introduce  edad de perro en años: \"))\n",
    "    if edad_perro == 1:\n",
    "        print(\"Tu perro tiene x años humanos.\")\n",
    "    elif edad_perro == 2:\n",
    "        print(\"Tu perro tiene x años humanos.\")\n",
    "    else:\n",
    "        edad_humana = (edad_perro - 2) * 5 + 22\n",
    "        print(f\"Tu perro tiene {edad_humana} años humanos.\")\n",
    "\n",
    "calcular_edad_perro()"
   ]
  },
  {
   "cell_type": "markdown",
   "id": "80566bfc-0e7c-4ece-ba93-18696dc8f5d8",
   "metadata": {},
   "source": [
    "#### Ejercicio 4. \n",
    "Escribe un programa que calcule la suma de todos los elementos de cada tupla guardada dentro de una lista de tuplas.\n",
    "\n",
    "Entrada:\n",
    "\n",
    "[(1, 2), (2, 3), (3, 4)]\n",
    "\n",
    "Resultado:\n",
    "\n",
    "[3, 5, 7]\n",
    "\n",
    "Entrada:\n",
    "[(1, 2, 6), (2, 3, -6), (3, 4), (2, 2, 2, 2)]\n",
    "\n",
    "\n",
    "Resultado:\n",
    "[9, -1, 7, 8]"
   ]
  },
  {
   "cell_type": "code",
   "execution_count": null,
   "id": "b47e41ad",
   "metadata": {},
   "outputs": [
    {
     "name": "stdout",
     "output_type": "stream",
     "text": [
      "Entrada:\n",
      "[(1, 2), (2, 3), (3, 4)]\n",
      "Resultado:\n",
      "[3, 5, 7]\n",
      "\n",
      "Entrada:\n",
      "[(1, 2, 6), (2, 3, -6), (3, 4), (2, 2, 2, 2)]\n",
      "Resultado:\n",
      "[9, -1, 7, 8]\n"
     ]
    }
   ],
   "source": [
    "entrada1 = [(1, 2), (2, 3), (3, 4)]\n",
    "resul1 = [sum(tupla) for tupla in entrada1]\n",
    "\n",
    "print(\"Entrada:\")\n",
    "print(entrada1)\n",
    "print(\"Resultado:\")\n",
    "print(resul1)\n",
    "print()  # Línea en blanco \n",
    "\n",
    "# Ej2\n",
    "entrada2 = [(1, 2, 6), (2, 3, -6), (3, 4), (2, 2, 2, 2)]\n",
    "resul2 = [sum(tupla) for tupla in entrada2]\n",
    "\n",
    "print(\"Entrada:\")\n",
    "print(entrada2)\n",
    "print(\"Resultado:\")\n",
    "print(resul2)"
   ]
  },
  {
   "cell_type": "markdown",
   "id": "2991309f-4208-431a-900c-d9bc734bb936",
   "metadata": {},
   "source": [
    "#### Ejercicio 5. \n",
    "\n",
    "Escribe un programa que te diga si una frase es un pangrama. Un pangrama es una frase que contiene todas las letras del alfabeto.\n",
    "Puedes tener espacios en blanco, pero NO  tendrás signos de puntuación, a excepción de las tildes.\n",
    "\n",
    "Ejemplo de pangrama:\n",
    "\n",
    "Extraño pan de col y kiwi se quemó bajo fugaz vaho "
   ]
  },
  {
   "cell_type": "code",
   "execution_count": 38,
   "id": "9a349c1e-15ab-4253-97f8-2a07a263791d",
   "metadata": {},
   "outputs": [
    {
     "name": "stdout",
     "output_type": "stream",
     "text": [
      "False\n"
     ]
    }
   ],
   "source": [
    "def pangrama():\n",
    "    frase = input(\"Escribe frase: \")\n",
    "    \n",
    "    frase = frase.lower()\n",
    "    \n",
    "    alfabeto = \"abcdefghijklmnñopqrstuvwxyz\"\n",
    "    \n",
    "    pangrama = all(letra in frase for letra in alfabeto)\n",
    "    \n",
    "    print(pangrama)\n",
    "\n",
    "pangrama()\n"
   ]
  },
  {
   "cell_type": "markdown",
   "id": "3dbb76e0-79b2-45e8-9034-58ee9cbd82bb",
   "metadata": {},
   "source": [
    "#### Ejercicio 6. \n",
    "\n",
    "Escribe un programa que use diccionarios para traducir palabras entre varios idiomas.\n",
    "Deberás pedirle al usuario una palabra por teclado, ver si está en tu diccionario. En caso de que esté, deberás mostrar la traducción de esa palabra.\n",
    "\n",
    "Ejemplo de diccionario:\n",
    "\n",
    "```python\n",
    "{\"file\": \"Fichier\", \"new\": \"Nouveau\", \"open\": \"Ouvrir\", \"save\": \"Enregistrer\", \"save as\": \"Enregistrer sous\", \"print preview\": \"Apercu avant impressioner\", \"print\": \"Imprimer\", \"close\": \"Fermer\", \"exit\": \"Quitter\"}\n"
   ]
  },
  {
   "cell_type": "code",
   "execution_count": 39,
   "id": "e492e289",
   "metadata": {},
   "outputs": [],
   "source": [
    "diccionario = {\n",
    "    \"file\": \"Fichier\",\n",
    "    \"new\": \"Nouveau\",\n",
    "    \"open\": \"Ouvrir\",\n",
    "    \"save\": \"Enregistrer\",\n",
    "    \"save as\": \"Enregistrer sous\",\n",
    "    \"print preview\": \"Apercu avant impressioner\",\n",
    "    \"print\": \"Imprimer\",\n",
    "    \"close\": \"Fermer\",\n",
    "    \"exit\": \"Quitter\"\n",
    "}"
   ]
  },
  {
   "cell_type": "code",
   "execution_count": null,
   "id": "6430775a",
   "metadata": {},
   "outputs": [
    {
     "name": "stdout",
     "output_type": "stream",
     "text": [
      "La traducción  'print' --> Imprimer\n"
     ]
    }
   ],
   "source": [
    "palabra = input(\"Introduce una palabra en inglés: \").lower()\n",
    "\n",
    "if palabra in diccionario:\n",
    "    print(f\"La traducción  '{palabra}' --> {diccionario[palabra]}\")\n",
    "else:\n",
    "    print(f\"La palabra '{palabra}' no se encuentra en el diccionario.\")"
   ]
  },
  {
   "cell_type": "markdown",
   "id": "61967ca4-7e06-44b3-ad7b-adbc0e71671a",
   "metadata": {},
   "source": [
    "#### Ejercicio 7.\n",
    "\n",
    "Usando objetos modela un theremin (es un instrumento musical que se toca modificando el campo electromagnético, por si tenías curiosidad).\n",
    "Tendrá de atributos la marca, el modelo, el peso, la potencia y la batería.\n",
    "\n",
    "Todos los instrumentos se crean con un peso predeterminado de 500, una potencia de 50 y una batería de 200.\n",
    "\n",
    "Cuando se recarga la batería vale 200.\n",
    "\n",
    "Cuando se toca, se muestra por pantalla que está sonando y la batería disminuye 10 (no siendo nunca negativo).\n",
    "Si no hay batería, no puede sonar. Crea un instrumento, tócalo mientras quede batería, cárgalo y no lo vuelvas a tocar.\n"
   ]
  },
  {
   "cell_type": "code",
   "execution_count": null,
   "id": "ea03342b",
   "metadata": {},
   "outputs": [],
   "source": [
    "class Theremin:\n",
    "    def __init__(self, marca, modelo):\n",
    "        self.marca = marca\n",
    "        self.modelo = modelo\n",
    "        self.peso = 500       \n",
    "        self.potencia = 50    \n",
    "        self.bateria = 200    "
   ]
  },
  {
   "cell_type": "code",
   "execution_count": null,
   "id": "54cc675f",
   "metadata": {},
   "outputs": [],
   "source": [
    "    def recargar(self):\n",
    "        self.bateria = 200\n",
    "        print(\"Batería recargada a 200.\")"
   ]
  },
  {
   "cell_type": "code",
   "execution_count": null,
   "id": "1c2a6eae",
   "metadata": {},
   "outputs": [],
   "source": [
    "    def tocar(self):\n",
    "        if self.bateria > 0:\n",
    "            print(\"El theremin está sonando...\")\n",
    "            self.bateria -= 10\n",
    "            if self.bateria < 0:\n",
    "                self.bateria = 0\n",
    "        else:\n",
    "            print(\"No hay batería. El theremin necesita recargarse.\")"
   ]
  },
  {
   "cell_type": "code",
   "execution_count": null,
   "id": "07dd9c84",
   "metadata": {},
   "outputs": [],
   "source": [
    "mi_theremin = Theremin(\"XD\", \"ThereM\")"
   ]
  },
  {
   "cell_type": "code",
   "execution_count": null,
   "id": "92ccd5b9",
   "metadata": {},
   "outputs": [],
   "source": [
    "while mi_theremin.bateria > 0:\n",
    "    mi_theremin.tocar()\n"
   ]
  },
  {
   "cell_type": "code",
   "execution_count": null,
   "id": "4a7e7888",
   "metadata": {},
   "outputs": [
    {
     "name": "stdout",
     "output_type": "stream",
     "text": [
      "El theremin está sonando...\n",
      "El theremin está sonando...\n",
      "El theremin está sonando...\n",
      "El theremin está sonando...\n",
      "El theremin está sonando...\n",
      "El theremin está sonando...\n",
      "El theremin está sonando...\n",
      "El theremin está sonando...\n",
      "El theremin está sonando...\n",
      "El theremin está sonando...\n",
      "El theremin está sonando...\n",
      "El theremin está sonando...\n",
      "El theremin está sonando...\n",
      "El theremin está sonando...\n",
      "El theremin está sonando...\n",
      "El theremin está sonando...\n",
      "El theremin está sonando...\n",
      "El theremin está sonando...\n",
      "El theremin está sonando...\n",
      "El theremin está sonando...\n",
      "No hay batería. El theremin necesita recargarse.\n",
      "Batería recargada a 200.\n"
     ]
    }
   ],
   "source": [
    "mi_theremin.tocar()\n",
    "\n",
    "\n",
    "mi_theremin.recargar()\n"
   ]
  },
  {
   "cell_type": "markdown",
   "id": "30f773b5-a6da-4446-b36b-722b2ee57730",
   "metadata": {},
   "source": [
    "#### Ejercicio 8\n",
    "Una empresa usa dos listas  para guardar la información de sus empleados. Una lista guarda el nombre del empleado y la otra guarda su salario. Escribe un programa que cree esas dos listas originalmente vacías y que a través de un menú pueda hacer lo siguiente:\n",
    "    \n",
    "Inserta 1 para añadir un nuevo empleado y su salario\n",
    "\n",
    "Inserta 2 para imprimir los nombres y salarios de todos los empleados\n",
    "\n",
    "Inserta 3 para mostrar el número de empleados\n",
    "\n",
    "Inserta 4 para imprimir los nombres de los empleados con sueldos superiores a 400000\n",
    "\n",
    "Inserta 5 para subir un 5% los sueldos por debajo de 10000\n",
    "\n",
    "Inserta 6 para mostrar el total de todos los salarios\n",
    "\n",
    "Inserta 7 para salir del programa"
   ]
  },
  {
   "cell_type": "code",
   "execution_count": null,
   "id": "46eaa673",
   "metadata": {},
   "outputs": [
    {
     "name": "stdout",
     "output_type": "stream",
     "text": [
      "\n",
      "Menú de opciones:\n",
      "1 - Añadir un nuevo empleado y su salario\n",
      "2 - Imprimir nombres y salarios de todos los empleados\n",
      "3 - Mostrar el número de empleados\n",
      "4 - Imprimir nombres de empleados con salarios superiores a 400000\n",
      "5 - Subir un 5% los sueldos por debajo de 10000\n",
      "6 - Mostrar el total de todos los salarios\n",
      "7 - Salir del programa\n",
      "\n",
      "Menú de opciones:\n",
      "1 - Añadir un nuevo empleado y su salario\n",
      "2 - Imprimir nombres y salarios de todos los empleados\n",
      "3 - Mostrar el número de empleados\n",
      "4 - Imprimir nombres de empleados con salarios superiores a 400000\n",
      "5 - Subir un 5% los sueldos por debajo de 10000\n",
      "6 - Mostrar el total de todos los salarios\n",
      "7 - Salir del programa\n",
      "\n",
      "Menú de opciones:\n",
      "1 - Añadir un nuevo empleado y su salario\n",
      "2 - Imprimir nombres y salarios de todos los empleados\n",
      "3 - Mostrar el número de empleados\n",
      "4 - Imprimir nombres de empleados con salarios superiores a 400000\n",
      "5 - Subir un 5% los sueldos por debajo de 10000\n",
      "6 - Mostrar el total de todos los salarios\n",
      "7 - Salir del programa\n"
     ]
    }
   ],
   "source": [
    "nombres = []\n",
    "salarios = []\n",
    "\n",
    "while True:\n",
    "    print(\"\\nMenú de opciones:\")\n",
    "    print(\"1 - Añadir un nuevo empleado y su salario\")\n",
    "    print(\"2 - Imprimir nombres y salarios de todos los empleados\")\n",
    "    print(\"3 - Mostrar el número de empleados\")\n",
    "    print(\"4 - Imprimir nombres de empleados con salarios superiores a 400000\")\n",
    "    print(\"5 - Subir un 5% los sueldos por debajo de 10000\")\n",
    "    print(\"6 - Mostrar el total de todos los salarios\")\n",
    "    print(\"7 - Salir del programa\")\n",
    "\n",
    "    opcion = input(\"Elige una opción (1-7): \")"
   ]
  }
 ],
 "metadata": {
  "kernelspec": {
   "display_name": "Python 3",
   "language": "python",
   "name": "python3"
  },
  "language_info": {
   "codemirror_mode": {
    "name": "ipython",
    "version": 3
   },
   "file_extension": ".py",
   "mimetype": "text/x-python",
   "name": "python",
   "nbconvert_exporter": "python",
   "pygments_lexer": "ipython3",
   "version": "3.10.11"
  }
 },
 "nbformat": 4,
 "nbformat_minor": 5
}
