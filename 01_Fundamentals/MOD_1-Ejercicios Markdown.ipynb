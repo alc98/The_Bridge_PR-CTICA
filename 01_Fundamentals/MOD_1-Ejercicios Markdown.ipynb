{
 "cells": [
  {
   "attachments": {},
   "cell_type": "markdown",
   "metadata": {},
   "source": [
    "## Ejercicio\n",
    "Para este ejercicio vas a crear dos nuevos elementos que no hemos visto en la teoría: una tabla y una fórmula. Busca en la web la sintaxis y replica ambos elementos. Ojo con los espacios en blanco entre la tabla y la fórmula"
   ]
  },
  {
   "attachments": {},
   "cell_type": "markdown",
   "metadata": {},
   "source": [
    "<div style=\"text-align:center\"><img src=\"./img/md_ejercicio2_vsc.png\" /></div>"
   ]
  },
  {
   "cell_type": "code",
   "execution_count": 2,
   "metadata": {},
   "outputs": [
    {
     "name": "stdout",
     "output_type": "stream",
     "text": [
      "Ramp Up        Data Analysis       Machine Learning    Data Business       \n",
      "Python         EDA                 Supervised          Productividad       \n",
      "Estadistica    R                   Non Supervised      Stytelling          \n",
      "Sql            Feat.Eng.           Deep Learning       API                 \n"
     ]
    }
   ],
   "source": [
    "print(f\"{'Ramp Up':<15}{'Data Analysis':<20}{'Machine Learning':<20}{'Data Business':<20}\")\n",
    "print(f\"{'Python':<15}{'EDA':<20}{'Supervised':<20}{'Productividad':<20}\")\n",
    "print(f\"{'Estadistica':<15}{'R':<20}{'Non Supervised':<20}{'Stytelling':<20}\")\n",
    "print(f\"{'Sql':<15}{'Feat.Eng.':<20}{'Deep Learning':<20}{'API':<20}\")\n"
   ]
  },
  {
   "cell_type": "code",
   "execution_count": 17,
   "metadata": {},
   "outputs": [
    {
     "name": "stdout",
     "output_type": "stream",
     "text": [
      "1.4142135623730951 + 4\n",
      "5.414213562373095\n"
     ]
    }
   ],
   "source": [
    "import math\n",
    "x = 1\n",
    "resultado1 = math.sqrt(3*x-1)\n",
    "resultado2 = (1+x)**2\n",
    "resultado0 = resultado1 + resultado2\n",
    "print(resultado1,\"+\", resultado2)\n",
    "print(resultado0)"
   ]
  },
  {
   "cell_type": "code",
   "execution_count": 15,
   "metadata": {},
   "outputs": [
    {
     "name": "stdout",
     "output_type": "stream",
     "text": [
      "          Resultado:       5.41\n"
     ]
    }
   ],
   "source": [
    "import math\n",
    "\n",
    "x = 1\n",
    "resultado = (math.sqrt(3 * x - 1)) + (1 + x) ** 2\n",
    "\n",
    "print(f\"{'Resultado:':>20} {resultado:>10.2f}\")\n"
   ]
  }
 ],
 "metadata": {
  "kernelspec": {
   "display_name": "Python 3",
   "language": "python",
   "name": "python3"
  },
  "language_info": {
   "codemirror_mode": {
    "name": "ipython",
    "version": 3
   },
   "file_extension": ".py",
   "mimetype": "text/x-python",
   "name": "python",
   "nbconvert_exporter": "python",
   "pygments_lexer": "ipython3",
   "version": "3.10.11"
  },
  "vscode": {
   "interpreter": {
    "hash": "252189e587d1e2aeba4a06e91fa71896c7a7f6e22e918b9407c7cde4ef2d5985"
   }
  }
 },
 "nbformat": 4,
 "nbformat_minor": 4
}
