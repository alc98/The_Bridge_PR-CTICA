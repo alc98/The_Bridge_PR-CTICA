{
 "cells": [
  {
   "cell_type": "markdown",
   "metadata": {},
   "source": [
    "![imagen](./img/ejercicios.png)"
   ]
  },
  {
   "cell_type": "markdown",
   "metadata": {},
   "source": [
    "# Ejercicios funciones\n",
    "## Ejercicio 1\n",
    "Escribe una función que convierta números del 1 al 7 en nombres de los dias de la semana. La función constará de un único argumento numérico y una salida de tipo string"
   ]
  },
  {
   "cell_type": "code",
   "execution_count": 27,
   "metadata": {},
   "outputs": [
    {
     "name": "stdout",
     "output_type": "stream",
     "text": [
      "Número inválido, ingresa un número del 1 al 7\n"
     ]
    }
   ],
   "source": [
    "def dia_de_la_semana(numero):\n",
    "    dias = {\n",
    "        1: \"Lunes\",\n",
    "        2: \"Martes\",\n",
    "        3: \"Miércoles\",\n",
    "        4: \"Jueves\",\n",
    "        5: \"Viernes\",\n",
    "        6: \"Sábado\",\n",
    "        7: \"Domingo\"\n",
    "    }\n",
    "    return dias.get(numero, \"Número inválido, ingresa un número del 1 al 7\")\n",
    "\n",
    "num = int(input(\"Introduce un número del 1 al 7: \"))\n",
    "print(dia_de_la_semana(num))\n"
   ]
  },
  {
   "cell_type": "code",
   "execution_count": null,
   "metadata": {},
   "outputs": [
    {
     "name": "stdout",
     "output_type": "stream",
     "text": [
      "El día es: Viernes\n"
     ]
    }
   ],
   "source": [
    "def dia_de_la_semana(numero):\n",
    "    dias = {\n",
    "        1: \"Lunes\",\n",
    "        2: \"Martes\",\n",
    "        3: \"Miércoles\",\n",
    "        4: \"Jueves\",\n",
    "        5: \"Viernes\",\n",
    "        6: \"Sábado\",\n",
    "        7: \"Domingo\"\n",
    "    }\n",
    "    return dias.get(numero, None)\n",
    "\n",
    "while True:\n",
    "    try:\n",
    "        num = int(input(\"Introduce un número del 1 al 7: \"))\n",
    "        dia = dia_de_la_semana(num)\n",
    "        if dia:\n",
    "            print(f\"El día es: {dia}\")\n",
    "            break  \n",
    "        else:\n",
    "            print(\"Número inválido. Por favor, ingresa un número entre 1 y 7.\")\n",
    "    except ValueError:\n",
    "        print(\"Entrada no válida. Por favor, ingresa un número entero.\")\n"
   ]
  },
  {
   "cell_type": "markdown",
   "metadata": {},
   "source": [
    "## Ejercicio 2\n",
    "En el ejercicio 8 de bucles, creábamos una pirámide invertida, cuyo número de pisos venía determinado por un input del usuario. Crear una función que replique el comportamiento de la pirámide, y utiliza un único parámetro de entrada de la función para determinar el número de filas de la pirámide, es decir, elimina la sentencia input."
   ]
  },
  {
   "cell_type": "code",
   "execution_count": 30,
   "metadata": {},
   "outputs": [
    {
     "name": "stdout",
     "output_type": "stream",
     "text": [
      "* * * * * \n",
      "* * * * \n",
      "* * * \n",
      "* * \n",
      "* \n"
     ]
    }
   ],
   "source": [
    "filas = int(input(\"Introduce Numero entre 1-5 :\"))\n",
    "for num in range(filas, 0, -1):\n",
    "        print(\"* \" * num)\n"
   ]
  },
  {
   "cell_type": "code",
   "execution_count": 31,
   "metadata": {},
   "outputs": [
    {
     "name": "stdout",
     "output_type": "stream",
     "text": [
      "* * * * * \n",
      "* * * * \n",
      "* * * \n",
      "* * \n",
      "* \n"
     ]
    }
   ],
   "source": [
    "def piramide_invertida(filas):\n",
    "    for i in range(filas, 0, -1):\n",
    "        print(\"* \" * i)\n",
    "\n",
    "num_filas = int(input(\"Número de filas: \"))\n",
    "piramide_invertida(num_filas)\n",
    "\n"
   ]
  },
  {
   "cell_type": "markdown",
   "metadata": {},
   "source": [
    "## Ejercicio 3\n",
    "Escibe una función que compare dos números. La función tiene dos argumentos y hay tres salidas posibles: que sean iguales, que el primero se  mayor que el segundo, o que el segundo sea mayor que el primero"
   ]
  },
  {
   "cell_type": "code",
   "execution_count": 77,
   "metadata": {},
   "outputs": [
    {
     "name": "stdout",
     "output_type": "stream",
     "text": [
      "El segundo número es mayor\n"
     ]
    }
   ],
   "source": [
    "def comparar_numeros(a, b):\n",
    "    comparacion = (a > b) - (a < b) \n",
    "    if comparacion == 0:\n",
    "        return \"Los números son iguales\"\n",
    "    elif comparacion == 1:\n",
    "        return \"El primer número es mayor\"\n",
    "    else:\n",
    "        return \"El segundo número es mayor\"\n",
    "num1 = float(input(\"Ingresa el primer número: \"))\n",
    "num2 = float(input(\"Ingresa el segundo número: \"))\n",
    "\n",
    "print(comparar_numeros(num1, num2))"
   ]
  },
  {
   "cell_type": "markdown",
   "metadata": {},
   "source": [
    "## Ejercicio 4\n",
    "Escribe una función que sea un contador de letras. En el primer argumento tienes que introducir un texto, y el segundo que sea la letra a contar. La función tiene que devolver un entero con el número de veces que aparece esa letra, tanto mayuscula, como minúscula"
   ]
  },
  {
   "cell_type": "code",
   "execution_count": null,
   "metadata": {},
   "outputs": [
    {
     "name": "stdout",
     "output_type": "stream",
     "text": [
      "{'h': 1, 'o': 6, 'l': 1, 'a': 1, 'd': 16, 'k': 13, 'm': 3}\n"
     ]
    }
   ],
   "source": [
    "def contar_letras(cadena: str) -> dict:\n",
    "    conteo = {}\n",
    "        if caracter.isalpha():  \n",
    "            caracter = caracter.lower() \n",
    "            conteo[caracter] = conteo.get(caracter, 0) + 1\n",
    "    return conteo\n",
    "\n",
    "print(contar_letras(\"Holaododoododkdmmdmdkdkdkkdkdkkdkdkkdkdkd\"))\n"
   ]
  },
  {
   "cell_type": "markdown",
   "metadata": {},
   "source": [
    "## Ejercicio 5\n",
    "Escribe una función que tenga un único argumento, un string. La salida de la función tiene que ser un diccionario con el conteo de todas las letras de ese string."
   ]
  },
  {
   "cell_type": "code",
   "execution_count": 83,
   "metadata": {},
   "outputs": [
    {
     "name": "stdout",
     "output_type": "stream",
     "text": [
      "{'h': 3, 'm': 4, 'j': 1, 'n': 4, 'o': 4, 'l': 2, 'a': 2, 'u': 1, 'd': 1, 'p': 1, 'y': 1, 't': 1}\n"
     ]
    }
   ],
   "source": [
    "def contar_letras(palabra: str) -> dict:\n",
    "    conteo = {}\n",
    "    for letra in palabra.lower():   \n",
    "        if letra.isalpha():         \n",
    "            conteo[letra] = conteo.get(letra, 0) + 1\n",
    "    return conteo\n",
    "\n",
    "print(contar_letras(\"HmjmnmnolamundoholaPython\"))"
   ]
  },
  {
   "cell_type": "markdown",
   "metadata": {},
   "source": [
    "## Ejercicio 6\n",
    "Escribir una función que añada o elimine elementos en una lista. La función necesita los siguientes argumentos:\n",
    "* lista: la lista donde se añadirán o eliminarán los elementos\n",
    "* comando: \"add\" o \"remove\"\n",
    "* elemento: Por defecto es None."
   ]
  },
  {
   "cell_type": "code",
   "execution_count": 101,
   "metadata": {},
   "outputs": [
    {
     "name": "stdout",
     "output_type": "stream",
     "text": [
      "[1, 2, 3, 4, 5, 6]\n"
     ]
    }
   ],
   "source": [
    "mi_lista = [1, 2, 3, 4, 5]\n",
    "\n",
    "def mod_lista(lista: list, command: str, elemento=None):\n",
    "    if command == \"add\" and elemento is not None:\n",
    "        lista.append(elemento)\n",
    "\n",
    "    elif command == \"remove\" and elemento in lista:\n",
    "        lista.remove(elemento)\n",
    "\n",
    "    else:\n",
    "        print(\"Introduzca un elemento válido('add' o 'remove').\")\n",
    "\n",
    "    return lista\n",
    "\n",
    "print(mod_lista(mi_lista, \"add\", 6))"
   ]
  },
  {
   "cell_type": "markdown",
   "metadata": {},
   "source": [
    "## Ejercicio 7\n",
    "Crea una función que reciba un número arbitrario de palabras, y devuelva una frase completa, separando las palabras con espacios."
   ]
  },
  {
   "cell_type": "code",
   "execution_count": 105,
   "metadata": {},
   "outputs": [
    {
     "name": "stdout",
     "output_type": "stream",
     "text": [
      "Hola mundo\n",
      "Python es muy util\n"
     ]
    }
   ],
   "source": [
    "def crear_frase(*palabras) -> str:\n",
    "    return \" \".join(palabras)\n",
    "\n",
    "print(crear_frase(\"Hola\", \"mundo\"))  \n",
    "\n",
    "print(crear_frase(\"Python\", \"es\", \"muy\", \"util\"))  \n"
   ]
  },
  {
   "cell_type": "markdown",
   "metadata": {},
   "source": [
    "## Ejercicio 8\n",
    "Escribe un programa que obtenga el enésimo número de la [serie de Fibonacci](https://es.wikipedia.org/wiki/Sucesi%C3%B3n_de_Fibonacci). Tienes que crear una función recursiva con un único argumento.\n",
    "\n",
    "```Python\n",
    "fibonacci(2) = 1\n",
    "fibonacci(4) = 3\n",
    "fibonacci(5) = 5\n",
    "fibonacci(8) = 21\n",
    "```"
   ]
  },
  {
   "cell_type": "code",
   "execution_count": 84,
   "metadata": {},
   "outputs": [
    {
     "name": "stdout",
     "output_type": "stream",
     "text": [
      "55\n"
     ]
    }
   ],
   "source": [
    "def fibonacci(n):\n",
    "    if n == 0:\n",
    "        return 0\n",
    "    elif n == 1:\n",
    "        return 1\n",
    "    else:\n",
    "        return fibonacci(n-1) + fibonacci(n-2)\n",
    "\n",
    "print(fibonacci(10))\n",
    "\n",
    "#fibonacci(n-1) + fibonacci(n-2)= Esto se cumple por coherencia matematica ya que \n",
    "# fibonacci(0)  · 0\n",
    "# fibonacci(1)  · 1\n",
    "# fibonacci(2)  · 1\n",
    "# fibonacci(3)  · 2\n",
    "# fibonacci(4)  · 3\n",
    "# fibonacci(5)  · 5\n",
    "# fibonacci(6)  · 8\n",
    "# fibonacci(7)  · 13\n",
    "# fibonacci(8)  · 21\n",
    "# fibonacci(9)  · 34\n",
    "# fibonacci(10) · 55\n",
    "# fibonacci(11) · 89\n",
    "\n"
   ]
  },
  {
   "cell_type": "markdown",
   "metadata": {},
   "source": [
    "## Ejercicio 9\n",
    "Define en una única celda las siguientes funciones:\n",
    "* Función que calcule el área de un cuadrado\n",
    "* Función que calcule el area de un triángulo\n",
    "* Función que calcule el área de un círculo\n",
    "\n",
    "En otra celda, calcular el area de:\n",
    "* Dos círculos de radio 10 + un triángulo de base 3 y altura 7\n",
    "* Un cuadrado de lado = 10 + 3 círculos (uno de radio = 4 y los otros dos de radio = 6) + 5 triángulos de base = 2 + altura = 4"
   ]
  },
  {
   "cell_type": "code",
   "execution_count": 79,
   "metadata": {},
   "outputs": [],
   "source": [
    "import math\n",
    "\n",
    "def area_cuadrado(lado: float):\n",
    "    return lado * lado\n",
    "\n",
    "def area_triangulo(base: float, altura: float):\n",
    "    return (base * altura) / 2\n",
    "\n",
    "def area_circulo(radio: float): \n",
    "    return math.pi * (radio ** 2)\n",
    "\n"
   ]
  },
  {
   "cell_type": "code",
   "execution_count": 82,
   "metadata": {},
   "outputs": [
    {
     "name": "stdout",
     "output_type": "stream",
     "text": [
      "Área  1: 638.8185307179587\n",
      "Área total: 396.46015351590177\n"
     ]
    }
   ],
   "source": [
    "area1 = (2 * area_circulo(10)) + area_triangulo(3, 7)\n",
    "print(\"Área  1:\", area1)\n",
    "\n",
    "area2 = (area_cuadrado(10) + area_circulo(4) + (2 * area_circulo(6)) + (5 * area_triangulo(2, 4)))\n",
    "print(\"Área total:\", area2)\n"
   ]
  }
 ],
 "metadata": {
  "kernelspec": {
   "display_name": "Python 3",
   "language": "python",
   "name": "python3"
  },
  "language_info": {
   "codemirror_mode": {
    "name": "ipython",
    "version": 3
   },
   "file_extension": ".py",
   "mimetype": "text/x-python",
   "name": "python",
   "nbconvert_exporter": "python",
   "pygments_lexer": "ipython3",
   "version": "3.10.11"
  }
 },
 "nbformat": 4,
 "nbformat_minor": 4
}
