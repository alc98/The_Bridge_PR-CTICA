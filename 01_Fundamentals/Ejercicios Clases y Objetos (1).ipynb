{
 "cells": [
  {
   "cell_type": "markdown",
   "metadata": {},
   "source": [
    "![imagen](./img/ejercicios.png)\n",
    "\n",
    "# Ejercicios Clases y Objetos"
   ]
  },
  {
   "cell_type": "markdown",
   "metadata": {},
   "source": [
    "## Ejercicio 1\n",
    "Somos una empresa que tiene varias tiendas de electrodomesticos. Necesitamos un programa para manejar las tiendas, ver las ventas que han tenido, cuántos empleados hay, etc... Para ello vamos a modelizar la tienda en una clase, que tendrá las siguientes características:\n",
    "* Nombre clase: \"Tienda\"\n",
    "* Atributos comunes:\n",
    "    * Tipo: \"Electrodomésticos\"\n",
    "    * Abierta: True\n",
    "* Atributos propios de cada tienda:\n",
    "    * Nombre - String\n",
    "    * Dirección - String\n",
    "    * Número de empleados - int\n",
    "    * Ventas ultimos 3 meses - Lista de 3 numeros\n",
    "* Método para calcular las ventas de todos los meses, que devuelva un numero con todas las ventas.\n",
    "* Método que calcula la media de ventas de los ultimos meses, por empleado\n",
    "* Método que devuelve en un string el nombre de la tienda, junto con su dirección.\n",
    "* Método que obtiene las ventas del último mes.\n",
    "* Método para dar una proyección de las ventas en caso de haber invertido X dinero en marketing en esa tienda. Siendo X el parámetro de entrada. Si X es menor de 1000, las ventas de los ultimos 3 meses hubiesen sido de (1.2 x ventas), si es mayor o igual de 1000, las ventas hubiesen sido de (1.5 x venta). El método reescribe el atributo de ventas en los últimos 3 meses, y además devuelve las ventas con el aumento.\n",
    "\n",
    "Se pide:\n",
    "1. Implementar la clase \"Tienda\"\n",
    "2. Crear tres tiendas con datos inventados\n",
    "3. Comprueba en al menos una de ellas, todo lo implementado en la clase tienda (sus atributos, media de ventas, ventas/empleado...)\n",
    "3. Calcular las ventas del último mes de todas las tiendas. Para ello usa el bucle `for`\n",
    "4. Imprime por pantalla los nombres de las tiendas cuya dirección lleve el string \"Avenida\"\n",
    "5. Seguro que ya has hecho este apartado... Documenta la clase :)"
   ]
  },
  {
   "cell_type": "code",
   "execution_count": null,
   "metadata": {},
   "outputs": [],
   "source": [
    "   class Tienda:\n",
    "    tipo = \"Electrodomesticos\"\n",
    "    abierta = True\n"
   ]
  },
  {
   "cell_type": "code",
   "execution_count": null,
   "metadata": {},
   "outputs": [],
   "source": [
    "\n",
    "    def __init__(self, nombre, direccion, num_empleados, ventas_ultimos_3_meses):\n",
    "        self.nombre = nombre\n",
    "        self.direccion = direccion\n",
    "        self.num_empleados = num_empleados\n",
    "        self.ventas_ultimos_3_meses = ventas_ultimos_3_meses"
   ]
  },
  {
   "cell_type": "code",
   "execution_count": null,
   "metadata": {},
   "outputs": [],
   "source": [
    "\n",
    "    def ventas_totales(self):\n",
    "        return sum(self.ventas_ultimos_3_meses)"
   ]
  },
  {
   "cell_type": "code",
   "execution_count": null,
   "metadata": {},
   "outputs": [],
   "source": [
    "    def media_ventas_empleado(self):\n",
    "        if self.num_empleados == 0:\n",
    "            return 0\n",
    "        return self.ventas_totales() / self.num_empleados"
   ]
  },
  {
   "cell_type": "code",
   "execution_count": null,
   "metadata": {},
   "outputs": [],
   "source": [
    "    def info_tienda(self):\n",
    "        return f\"Tienda: {self.nombre}, Direccion: {self.direccion}\""
   ]
  },
  {
   "cell_type": "code",
   "execution_count": null,
   "metadata": {},
   "outputs": [],
   "source": [
    "\n",
    "    def ventas_ultimo_mes(self):\n",
    "        return self.ventas_ultimos_3_meses[-1]"
   ]
  },
  {
   "cell_type": "code",
   "execution_count": null,
   "metadata": {},
   "outputs": [],
   "source": [
    "    def proyeccion_ventas(self, marketing):\n",
    "        factor = 1.2 if marketing < 1000 else 1.5\n",
    "        self.ventas_ultimos_3_meses = [v * factor for v in self.ventas_ultimos_3_meses]\n",
    "        return self.ventas_ultimos_3_meses\n"
   ]
  },
  {
   "cell_type": "code",
   "execution_count": null,
   "metadata": {},
   "outputs": [],
   "source": [
    "tienda1 = Tienda(\"ElectricSA\", \"Calle Mayor 123\", 5, [10005, 12003, 11001])\n",
    "tienda2 = Tienda(\"TECNOXD\", \"Avenida Central 45\", 3, [8600, 9500, 9000])\n",
    "tienda3 = Tienda(\"LAVSA\", \"Calle Luna 7\", 4, [16500, 17000, 16000])"
   ]
  },
  {
   "cell_type": "code",
   "execution_count": 17,
   "metadata": {},
   "outputs": [
    {
     "name": "stdout",
     "output_type": "stream",
     "text": [
      "Atributos de tienda1:\n",
      "Tienda: ElectricSA, Dirección: Calle Mayor 123\n",
      "Ventas totales: 346420.8\n",
      "Media ventas / empleado: 69284.16\n",
      "Ventas  ultimo mes: 115473.59999999999\n",
      "Proyeccion  ventas con marketing 500: [125971.2, 151165.44, 138568.31999999998]\n",
      "Proyeccion  ventas con marketing 1200: [188956.8, 226748.16, 207852.47999999998]\n",
      "\n",
      "Ventas  ultimo mes de todas las tiendas:\n",
      "ElectricSA: 207852.47999999998\n",
      "TECNOXD: 9000\n",
      "LAVSA: 16000\n",
      "\n",
      "Tiendas en 'Avenida':\n",
      "TECNOXD\n"
     ]
    }
   ],
   "source": [
    "print(\"Atributos de tienda1:\")\n",
    "print(tienda1.info_tienda())\n",
    "print(\"Ventas totales:\", tienda1.ventas_totales())\n",
    "print(\"Media ventas / empleado:\", tienda1.media_ventas_por_empleado())\n",
    "print(\"Ventas  ultimo mes:\", tienda1.ventas_ultimo_mes())\n",
    "print(\"Proyeccion  ventas con marketing 500:\", tienda1.proyeccion_ventas(500))\n",
    "print(\"Proyeccion  ventas con marketing 1200:\", tienda1.proyeccion_ventas(1200))\n",
    "\n",
    "tiendas = [tienda1, tienda2, tienda3]\n",
    "print(\"\\nVentas  ultimo mes de todas las tiendas:\")\n",
    "for t in tiendas:\n",
    "    print(f\"{t.nombre}: {t.ventas_ultimo_mes()}\")\n",
    "    \n",
    "print(\"\\nTiendas en 'Avenida':\")\n",
    "for t in tiendas:\n",
    "    if \"Avenida\" in t.direccion:\n",
    "        print(t.nombre)"
   ]
  },
  {
   "cell_type": "markdown",
   "metadata": {},
   "source": [
    "## Ejercicio 2\n",
    "En este ejercicio vamos a implementar una clase *Perro* en Python. La clase tiene las siguientes características:\n",
    "* Cosas que sabemos seguro que tiene un perro\n",
    "    * Tiene 4 patas\n",
    "    * 2 orejas\n",
    "    * 2 ojos\n",
    "    * Una velocidad de 0. Por defecto, el perro está parado\n",
    "* Cuando se inicialice:\n",
    "    * El perro será de una determinada raza\n",
    "    * Por defecto tendrá pelo \"Marrón\", a no ser que se diga lo contrario.\n",
    "    * Por defecto no tendrá dueño, a no ser que se diga lo contrario.\n",
    "    \n",
    "* Dispondrá también de un método llamado andar, que tiene un argumento de entrada (aumento_velocidad). Este valor se le sumará a la velocidad que ya llevaba el perro.\n",
    "* Necesita otro método (parar), donde pondremos la velocidad a 0.\n",
    "* Otro método llamado \"ladrar\", que tendrá un argumento de entrada, y la salida será el siguiente string: \"GUAU!\" + el argumento de entrada.\n",
    "\n",
    "\n",
    "Se pide:\n",
    "* Implementa la clase *Perro*\n",
    "* Crea un objeto de tipo *Perro*, sin dueño\n",
    "* Comprueba que están bien todos sus atributos\n",
    "* Prueba que ande, y comprueba su velocidad\n",
    "* Páralo\n",
    "* Documenta la clase *Perro*"
   ]
  },
  {
   "cell_type": "code",
   "execution_count": null,
   "metadata": {},
   "outputs": [],
   "source": [
    "class Perro:\n",
    "    patas = 4\n",
    "    orejas = 2\n",
    "    ojos = 2\n",
    "#(ATRIBTOS)"
   ]
  },
  {
   "cell_type": "code",
   "execution_count": null,
   "metadata": {},
   "outputs": [],
   "source": [
    "   def __init__(self, raza, pelo=\"Marrón\", duenio=None):\n",
    "        self.raza = raza\n",
    "        self.pelo = pelo\n",
    "        self.duenio = duenio\n",
    "        self.velocidad = 0"
   ]
  },
  {
   "cell_type": "code",
   "execution_count": 18,
   "metadata": {},
   "outputs": [
    {
     "ename": "IndentationError",
     "evalue": "unexpected indent (3375265992.py, line 2)",
     "output_type": "error",
     "traceback": [
      "\u001b[1;36m  Cell \u001b[1;32mIn[18], line 2\u001b[1;36m\u001b[0m\n\u001b[1;33m    def andar(self, aumento_velocidad):\u001b[0m\n\u001b[1;37m    ^\u001b[0m\n\u001b[1;31mIndentationError\u001b[0m\u001b[1;31m:\u001b[0m unexpected indent\n"
     ]
    }
   ],
   "source": [
    "#ACC DE MOVIMIENTO\n",
    "    def andar(self, aumento_velocidad):\n",
    "        self.velocidad += aumento_velocidad\n",
    "\n",
    "    def parar(self):\n",
    "        self.velocidad = 0\n",
    "\n",
    "    def ladrar(self, mensaje):\n",
    "        return f\"LADRAR: {mensaje}\"\n"
   ]
  },
  {
   "cell_type": "code",
   "execution_count": 12,
   "metadata": {},
   "outputs": [],
   "source": [
    "mi_perro_sin_dueño = Perro(\"Labrador\")"
   ]
  },
  {
   "cell_type": "code",
   "execution_count": 26,
   "metadata": {},
   "outputs": [
    {
     "name": "stdout",
     "output_type": "stream",
     "text": [
      "Atributos del perro:\n",
      "Raza: Labrador\n",
      "Pelo: Marrón\n",
      "Dueño: None\n",
      "Patas: 4\n",
      "Orejas: 2\n",
      "Ojos: 2\n",
      "Vel 0: 0\n",
      "Velocidad despues de andar 10: 10\n",
      "Velocidad despues de parar: 0\n",
      "GUAU! ¡WAOW!\n"
     ]
    },
    {
     "data": {
      "text/plain": [
       "<__main__.Perro at 0x217b7acbb20>"
      ]
     },
     "execution_count": 26,
     "metadata": {},
     "output_type": "execute_result"
    }
   ],
   "source": [
    "print(\"Atributos del perro:\")\n",
    "print(\"Raza:\", mi_perro.raza)\n",
    "print(\"Pelo:\", mi_perro.pelo)\n",
    "print(\"Dueño:\", mi_perro.duenio)\n",
    "print(\"Patas:\", mi_perro.patas)\n",
    "print(\"Orejas:\", mi_perro.orejas)\n",
    "print(\"Ojos:\", mi_perro.ojos)\n",
    "print(\"Vel 0:\", mi_perro.velocidad)\n",
    "\n",
    "\n",
    "mi_perro.andar(10)\n",
    "print(\"Velocidad despues de andar 10:\", mi_perro.velocidad)\n",
    "\n",
    "\n",
    "mi_perro.parar()\n",
    "print(\"Velocidad despues de parar:\", mi_perro.velocidad)\n",
    "\n",
    "print(mi_perro.ladrar(\"¡WAOW!\"))\n",
    "\n",
    "mi_perro_sin_dueño\n"
   ]
  }
 ],
 "metadata": {
  "kernelspec": {
   "display_name": "Python 3",
   "language": "python",
   "name": "python3"
  },
  "language_info": {
   "codemirror_mode": {
    "name": "ipython",
    "version": 3
   },
   "file_extension": ".py",
   "mimetype": "text/x-python",
   "name": "python",
   "nbconvert_exporter": "python",
   "pygments_lexer": "ipython3",
   "version": "3.10.11"
  }
 },
 "nbformat": 4,
 "nbformat_minor": 4
}
