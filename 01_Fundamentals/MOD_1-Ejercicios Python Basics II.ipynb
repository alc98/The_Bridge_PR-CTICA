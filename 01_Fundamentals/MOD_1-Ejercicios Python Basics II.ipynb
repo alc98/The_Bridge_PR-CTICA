{
 "cells": [
  {
   "attachments": {},
   "cell_type": "markdown",
   "metadata": {},
   "source": [
    "![imagen](./img/ejercicios.png)"
   ]
  },
  {
   "attachments": {},
   "cell_type": "markdown",
   "metadata": {},
   "source": [
    "# Ejercicios Python Basics II"
   ]
  },
  {
   "attachments": {},
   "cell_type": "markdown",
   "metadata": {},
   "source": [
    "## Ejercicio 1\n",
    "* Crea dos variables numericas: un `int` y un `float`\n",
    "* Comprueba sus tipos\n",
    "* Sumalas en otra nueva\n",
    "* ¿De qué tipo es la nueva variable?\n",
    "* Elimina las dos primeras variables creadas"
   ]
  },
  {
   "cell_type": "code",
   "execution_count": 3,
   "metadata": {},
   "outputs": [
    {
     "name": "stdout",
     "output_type": "stream",
     "text": [
      "<class 'int'>\n",
      "<class 'float'>\n",
      "<class 'float'>\n",
      "20.11\n"
     ]
    }
   ],
   "source": [
    "entero = 10 \n",
    "decimal = 10.11\n",
    "var0 = entero + decimal \n",
    "\n",
    "print(type(entero))\n",
    "print(type(decimal))\n",
    "print(type(var0))\n",
    "print(var0)"
   ]
  },
  {
   "cell_type": "code",
   "execution_count": 5,
   "metadata": {},
   "outputs": [
    {
     "name": "stdout",
     "output_type": "stream",
     "text": [
      "<class 'int'> <class 'float'> <class 'float'>\n",
      "20.11\n"
     ]
    }
   ],
   "source": [
    "entero = 10 \n",
    "decimal = 10.11\n",
    "var0 = entero + decimal \n",
    "\n",
    "print(type(entero), type(decimal), type(var0))\n",
    "print(var0)"
   ]
  },
  {
   "attachments": {},
   "cell_type": "markdown",
   "metadata": {},
   "source": [
    "## Ejercicio 2\n",
    "Escribe un programa para pasar de grados a radianes. Hay que usar `input`. Recuerda que la conversión se realiza mediante\n",
    "\n",
    "radianes = grados*(pi/180)"
   ]
  },
  {
   "cell_type": "code",
   "execution_count": 8,
   "metadata": {},
   "outputs": [
    {
     "name": "stdout",
     "output_type": "stream",
     "text": [
      "Los 180.0 grados  son 3.14159 radianes.\n"
     ]
    }
   ],
   "source": [
    "grados = float(input(\"Introduce los grados :\"))\n",
    "radianes = grados*(3.14159/180)\n",
    "print(f\"Los {grados} grados  son {radianes} radianes.\")"
   ]
  },
  {
   "cell_type": "code",
   "execution_count": 10,
   "metadata": {},
   "outputs": [
    {
     "name": "stdout",
     "output_type": "stream",
     "text": [
      "Los 180.0 grados son 3.141592653589793 radianes.\n"
     ]
    }
   ],
   "source": [
    "import math\n",
    "\n",
    "grados = float(input(\"Introduce los grados: \"))\n",
    "radianes = grados * (math.pi / 180)\n",
    "print(f\"Los {grados} grados son {radianes} radianes.\")\n"
   ]
  },
  {
   "attachments": {},
   "cell_type": "markdown",
   "metadata": {},
   "source": [
    "## Ejercicio 3\n",
    "Escribe un programa que calcule el area de un paralelogramo (base x altura). También con `input`"
   ]
  },
  {
   "cell_type": "code",
   "execution_count": 24,
   "metadata": {},
   "outputs": [
    {
     "name": "stdout",
     "output_type": "stream",
     "text": [
      "Valores ingresados: 7.0 y 9.0\n",
      "Area is:, 31.5\n"
     ]
    }
   ],
   "source": [
    "base = float(input(\"Introduce los m de la base :\"))\n",
    "\n",
    "altura = float(input(\"Introduce los m de la altura:\")) \n",
    "\n",
    "area = (base * altura) /2\n",
    "print(\"Valores ingresados:\", base, \"y\", altura)\n",
    "print(f\"Area is:, {area}\")"
   ]
  },
  {
   "attachments": {},
   "cell_type": "markdown",
   "metadata": {},
   "source": [
    "## Ejercicio 4\n",
    "Tenemos las siguientes variables:\n",
    "\n",
    "```Python\n",
    "A = 4\n",
    "B = \"Text\"\n",
    "C = 4.1\n",
    "```\n",
    "\n",
    "Comprueba:\n",
    "1. Si A y B son equivalentes\n",
    "2. Si A y C NO son equivalentes\n",
    "3. Si A es mayor que C \n",
    "4. Si C es menor o igual que A\n",
    "5. Si B NO es equivalente a C"
   ]
  },
  {
   "cell_type": "code",
   "execution_count": 4,
   "metadata": {},
   "outputs": [
    {
     "name": "stdout",
     "output_type": "stream",
     "text": [
      "False\n",
      "True\n",
      "False\n",
      "False\n",
      "True\n"
     ]
    }
   ],
   "source": [
    "A = 4\n",
    "B = \"Text\"\n",
    "C = 4.1\n",
    "\n",
    "print(A == B)\n",
    "print(A != C)\n",
    "print(A > C)\n",
    "print(C <= A)\n",
    "print(B != C)"
   ]
  },
  {
   "attachments": {},
   "cell_type": "markdown",
   "metadata": {},
   "source": [
    "## Ejercicio 5\n",
    "Crea un programa donde se recojan dos inputs del usuario, y el output del programa sea si esos inputs son iguales o no"
   ]
  },
  {
   "cell_type": "code",
   "execution_count": 8,
   "metadata": {},
   "outputs": [
    {
     "name": "stdout",
     "output_type": "stream",
     "text": [
      "Valores ingresados: 2 y 3\n",
      "False\n"
     ]
    }
   ],
   "source": [
    "input1 = input(\"Introduce el primer valor: \")\n",
    "input2 = input(\"Introduce el segundo valor: \")\n",
    "\n",
    "print(\"Valores ingresados:\", input1, \"y\", input2)\n",
    "if input1 == input2:\n",
    "    print(\"True\")\n",
    "else:\n",
    "    print(\"False\")"
   ]
  },
  {
   "attachments": {},
   "cell_type": "markdown",
   "metadata": {},
   "source": [
    "## Ejercicio 6\n",
    "Mismo programa que en 5, pero en esta ocasión tienen que ser tres inputs y dos salidas. Una de las salidas que nos indique si todos son iguales, y la otra si al menos dos inputs sí que lo son"
   ]
  },
  {
   "cell_type": "code",
   "execution_count": 20,
   "metadata": {},
   "outputs": [
    {
     "name": "stdout",
     "output_type": "stream",
     "text": [
      "Valores ingresados: 1 y 2 y 1\n",
      "False\n",
      "True\n"
     ]
    }
   ],
   "source": [
    "input4 = input(\"Introduce el primer valor: \")\n",
    "input5 = input(\"Introduce el segundo valor: \")\n",
    "input6 = input(\"Introduce el tercer valor: \")\n",
    "\n",
    "print(\"Valores ingresados:\", input4, \"y\", input5, \"y\", input6)\n",
    "\n",
    "if input4 == input5 == input6:\n",
    "    print(\"True\")\n",
    "else:\n",
    "    print(\"False\")\n",
    "\n",
    "if input4 == input5 or input5 == input6 or input4 == input6:\n",
    "    print(\"True\")\n",
    "else:\n",
    "    print(\"False\")"
   ]
  },
  {
   "attachments": {},
   "cell_type": "markdown",
   "metadata": {},
   "source": [
    "## Ejercicio 7\n",
    "Crea un programa que recoja dos inputs. Tiene que comprobar si su suma es igual, superior o inferior a 10"
   ]
  },
  {
   "cell_type": "code",
   "execution_count": 21,
   "metadata": {},
   "outputs": [
    {
     "name": "stdout",
     "output_type": "stream",
     "text": [
      "Valores ingresados: 5 y 6\n",
      "False\n"
     ]
    },
    {
     "ename": "TypeError",
     "evalue": "'>' not supported between instances of 'str' and 'int'",
     "output_type": "error",
     "traceback": [
      "\u001b[1;31m---------------------------------------------------------------------------\u001b[0m",
      "\u001b[1;31mTypeError\u001b[0m                                 Traceback (most recent call last)",
      "Cell \u001b[1;32mIn[21], line 10\u001b[0m\n\u001b[0;32m      7\u001b[0m \u001b[38;5;28;01melse\u001b[39;00m:\n\u001b[0;32m      8\u001b[0m     \u001b[38;5;28mprint\u001b[39m(\u001b[38;5;124m\"\u001b[39m\u001b[38;5;124mFalse\u001b[39m\u001b[38;5;124m\"\u001b[39m)\n\u001b[1;32m---> 10\u001b[0m \u001b[38;5;28;01mif\u001b[39;00m \u001b[43minput1\u001b[49m\u001b[43m \u001b[49m\u001b[38;5;241;43m+\u001b[39;49m\u001b[43m \u001b[49m\u001b[43minput2\u001b[49m\u001b[43m \u001b[49m\u001b[38;5;241;43m>\u001b[39;49m\u001b[43m \u001b[49m\u001b[38;5;241;43m10\u001b[39;49m:\n\u001b[0;32m     11\u001b[0m     \u001b[38;5;28mprint\u001b[39m(\u001b[38;5;124m\"\u001b[39m\u001b[38;5;124mEs mayor que 10:,: True\u001b[39m\u001b[38;5;124m\"\u001b[39m)\n\u001b[0;32m     12\u001b[0m \u001b[38;5;28;01melse\u001b[39;00m:\n",
      "\u001b[1;31mTypeError\u001b[0m: '>' not supported between instances of 'str' and 'int'"
     ]
    }
   ],
   "source": [
    "#Ejercicio Incorrecto Error de tipo\n",
    "input7 = input(\"Introduce el primer valor: \")\n",
    "input8 = input(\"Introduce el segundo valor: \")\n",
    "\n",
    "print(\"Valores ingresados:\", input7, \"y\", input8)\n",
    "if input1 + input2 == 10:\n",
    "    print(\"Es igual que 10:,: True\")\n",
    "else:\n",
    "    print(\"False\")\n",
    "\n",
    "if input1 + input2 > 10:\n",
    "    print(\"Es mayor que 10:,: True\")\n",
    "else:\n",
    "    print(\"Es mayor que 10:,False\")\n",
    "\n",
    "if input1 + input2 < 10:\n",
    "    print(\"Es menor que 10:,: True\")\n",
    "else:\n",
    "    print(\"Es menor que 10:,False\")"
   ]
  },
  {
   "cell_type": "code",
   "execution_count": null,
   "metadata": {},
   "outputs": [
    {
     "name": "stdout",
     "output_type": "stream",
     "text": [
      "Valores ingresados: 3 y 5\n",
      "Es igual que 10: False\n",
      "Es mayor que 10: False\n",
      "Es menor que 10: True\n"
     ]
    }
   ],
   "source": [
    "#Solucion compleja Bucle\n",
    "input7 = input(\"Introduce el primer valor: \")\n",
    "input8 = input(\"Introduce el segundo valor: \")\n",
    "\n",
    "print(\"Valores ingresados:\", input7, \"y\", input8)\n",
    "\n",
    "# Convertir a números para poder sumar\n",
    "num1 = float(input7)\n",
    "num2 = float(input8)\n",
    "\n",
    "if num1 + num2 == 10:\n",
    "    print(\"Es igual que 10: True\")\n",
    "else:\n",
    "    print(\"Es igual que 10: False\")\n",
    "\n",
    "if num1 + num2 > 10:\n",
    "    print(\"Es mayor que 10: True\")\n",
    "else:\n",
    "    print(\"Es mayor que 10: False\")\n",
    "\n",
    "if num1 + num2 < 10:\n",
    "    print(\"Es menor que 10: True\")\n",
    "else:\n",
    "    print(\"Es menor que 10: False\")\n"
   ]
  },
  {
   "cell_type": "code",
   "execution_count": null,
   "metadata": {},
   "outputs": [
    {
     "name": "stdout",
     "output_type": "stream",
     "text": [
      "Valores ingresados: 7.0 y 8.0\n",
      "Suma Total: {15.0}\n",
      "La suma es igual a 10: False\n",
      "La suma es superior a 10: True\n",
      "La suma es inferior a 10: False\n"
     ]
    }
   ],
   "source": [
    "#Solucion simple\n",
    "num1 = float(input(\"Introduce el primer número: \"))\n",
    "num2 = float(input(\"Introduce el segundo número: \"))\n",
    "\n",
    "suma = num1 + num2\n",
    "\n",
    "print(\"Valores ingresados:\", num1, \"y\", num2)\n",
    "print(\"Suma Total:\", {suma})\n",
    "print(\"La suma es igual a 10:\", suma == 10)\n",
    "print(\"La suma es superior a 10:\", suma > 10)\n",
    "print(\"La suma es inferior a 10:\", suma < 10)\n"
   ]
  },
  {
   "attachments": {},
   "cell_type": "markdown",
   "metadata": {},
   "source": [
    "## Ejercicio 8\n",
    "Razona sin ejecutar código el output que obtendremos de las siguientes sentencias\n",
    "1. True and True and False\n",
    "2. not ((True or False) and (True or False))\n",
    "3. (False or False or False or True) and False\n",
    "4. not False and True and not True"
   ]
  },
  {
   "attachments": {},
   "cell_type": "markdown",
   "metadata": {},
   "source": [
    "| Expresión                                        | Resultado |\n",
    "| ------------------------------------------------ | --------- |\n",
    "| 1. `True and True and False`                     | False     |\n",
    "| 2. `not ((True or False) and (True or False))`   | False     |\n",
    "| 3. `(False or False or False or True) and False` | False     |\n",
    "| 4. `not False and True and not True`             | False     |\n"
   ]
  },
  {
   "attachments": {},
   "cell_type": "markdown",
   "metadata": {},
   "source": [
    "## Ejercicio 9\n",
    "Para este ejercicio vamos a poner en práctica [las funciones built in](https://docs.python.org/3/library/functions.html).\n",
    "\n",
    "1. Calcula el máximo de la lista: [4, 6, 8, -1]\n",
    "2. Suma todos los elementos de la lista anterior\n",
    "3. Redondea este float a 3 dígitos decimales: 63.451256965\n",
    "4. Valor absoluto de: -74"
   ]
  },
  {
   "cell_type": "code",
   "execution_count": 38,
   "metadata": {},
   "outputs": [
    {
     "name": "stdout",
     "output_type": "stream",
     "text": [
      "Máximo: 8\n",
      "Suma: 17\n",
      "Redondeado a 3 decimales: 63.451\n",
      "Valor absoluto: 74\n"
     ]
    }
   ],
   "source": [
    "lista = [4, 6, 8, -1]\n",
    "maximo = max(lista)\n",
    "print(\"Máximo:\", maximo)\n",
    "\n",
    "suma = sum(lista)\n",
    "print(\"Suma:\", suma)\n",
    "\n",
    "numero = 63.451256965\n",
    "redondeado = round(numero, 3)\n",
    "print(\"Redondeado a 3 decimales:\", redondeado)\n",
    "\n",
    "valor_absoluto = abs(-74)\n",
    "print(\"Valor absoluto:\", valor_absoluto)\n"
   ]
  },
  {
   "attachments": {},
   "cell_type": "markdown",
   "metadata": {},
   "source": [
    "## Ejercicio 10\n",
    "Para el siguiente string se pide imprimir por pantalla los siguientes casos\n",
    "\n",
    "    \"En un lugar de la Mancha, de cuyo nombre no quiero acordarme.\"\n",
    "\n",
    "1. Pásalo todo a mayúsculas\n",
    "2. Pásalo todo a minúsculas\n",
    "3. Solo la primera letra de cada palabra en mayúscula, el resto en minúscula\n",
    "4. Crea una lista dividiéndolo por sus espacios\n",
    "5. Sustituye las comas `,` por puntos y comas `;`\n",
    "6. Elimina las `a` minúsculas"
   ]
  },
  {
   "cell_type": "code",
   "execution_count": 40,
   "metadata": {},
   "outputs": [
    {
     "name": "stdout",
     "output_type": "stream",
     "text": [
      "EN UN LUGAR DE LA MANCHA, DE CUYO NOMBRE NO QUIERO ACORDARME.\n",
      "en un lugar de la mancha, de cuyo nombre no quiero acordarme.\n",
      "En Un Lugar De La Mancha, De Cuyo Nombre No Quiero Acordarme.\n",
      "['En', 'un', 'lugar', 'de', 'la', 'Mancha,', 'de', 'cuyo', 'nombre', 'no', 'quiero', 'acordarme.']\n",
      "En un lugar de la Mancha; de cuyo nombre no quiero acordarme.\n",
      "En un lugr de l Mnch, de cuyo nombre no quiero cordrme.\n"
     ]
    }
   ],
   "source": [
    "phrase = \"En un lugar de la Mancha, de cuyo nombre no quiero acordarme.\"\n",
    "\n",
    "print(phrase.upper())\n",
    "print(phrase.lower())\n",
    "print(phrase.title())\n",
    "print(phrase.split())\n",
    "print(phrase.replace(\",\", \";\"))\n",
    "print(phrase.replace(\"a\", \"\"))"
   ]
  },
  {
   "attachments": {},
   "cell_type": "markdown",
   "metadata": {},
   "source": [
    "## Ejercicio 11\n",
    "1. Crea una lista con 3 elementos numéricos\n",
    "2. Añade un cuarto elemento\n",
    "3. Calcula la suma de todos\n",
    "4. Elimina el segundo elemento de la lista\n",
    "5. Añade otro elemento en la posicion 3 de la lista\n",
    "6. Crea otra lista con 4 elementos y concaténala a la que ya tenías."
   ]
  },
  {
   "cell_type": "code",
   "execution_count": null,
   "metadata": {},
   "outputs": [
    {
     "name": "stdout",
     "output_type": "stream",
     "text": [
      "[10, 20, 30]\n",
      "[10, 20, 30, 40]\n",
      "100\n",
      "[10, 30, 40]\n",
      "[10, 30, 40, 99]\n",
      "[10, 30, 40, 99, 1, 2, 3, 4]\n"
     ]
    }
   ],
   "source": [
    "lista = [10, 20, 30]\n",
    "print(lista)\n",
    "\n",
    "lista.append(40)\n",
    "print(lista)\n",
    "\n",
    "\n",
    "print(sum(lista))\n",
    "\n",
    "# Lista empieza eorden en 0\n",
    "del lista[1]\n",
    "print(lista)\n",
    "\n",
    "lista.insert(3, 99)\n",
    "print(lista)\n",
    "\n",
    "otra_lista = [1, 2, 3, 4]\n",
    "lista += otra_lista\n",
    "print(lista)\n",
    "\n"
   ]
  }
 ],
 "metadata": {
  "kernelspec": {
   "display_name": "Python 3",
   "language": "python",
   "name": "python3"
  },
  "language_info": {
   "codemirror_mode": {
    "name": "ipython",
    "version": 3
   },
   "file_extension": ".py",
   "mimetype": "text/x-python",
   "name": "python",
   "nbconvert_exporter": "python",
   "pygments_lexer": "ipython3",
   "version": "3.10.11"
  }
 },
 "nbformat": 4,
 "nbformat_minor": 4
}
