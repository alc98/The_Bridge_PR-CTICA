{
 "cells": [
  {
   "cell_type": "markdown",
   "metadata": {},
   "source": [
    "![imagen](./img/ejercicios.png)"
   ]
  },
  {
   "cell_type": "markdown",
   "metadata": {},
   "source": [
    "# Ejercicios Python Basics I"
   ]
  },
  {
   "cell_type": "markdown",
   "metadata": {},
   "source": [
    "## Ejercicio 1\n",
    "Imprime por pantalla esta cita con el siguiente formato\n",
    "\n",
    "![imagen](./img/frase_Einstein.PNG)"
   ]
  },
  {
   "cell_type": "code",
   "execution_count": 19,
   "metadata": {},
   "outputs": [
    {
     "name": "stdout",
     "output_type": "stream",
     "text": [
      "¿Por qué esta magnífica tecnología científica,\n",
      "\tque ahorra trabajo y nos hace la vida mas fácil,\n",
      "\t\tnos aporta tan poca felicidad?\n",
      "\t\t\tLa repuesta es está, simplemente: porque aún no hemos aprendido a usarla con tino.\n",
      " \"Albert Einstein\"\n"
     ]
    }
   ],
   "source": [
    "print(\"¿Por qué esta magnífica tecnología científica,\\n\"\n",
    "      \"\\tque ahorra trabajo y nos hace la vida mas fácil,\\n\"\n",
    "      \"\\t\\tnos aporta tan poca felicidad?\\n\"\n",
    "      \"\\t\\t\\tLa repuesta es está, simplemente: porque aún no hemos aprendido a usarla con tino.\\n\"\n",
    "      ' \"Albert Einstein\"')\n",
    "\n"
   ]
  },
  {
   "cell_type": "markdown",
   "metadata": {},
   "source": [
    "## Ejercicio 2\n",
    "1. Escribe el nombre de la calle de tu domicilio\n",
    "2. Escribe el numero de la calle en otra\n",
    "3. Población en una tercera\n",
    "4. Codigo postal en la cuarta variable\n",
    "5. Crea una quinta variable que concatene todas ellas\n",
    "6. Imprimela por pantalla"
   ]
  },
  {
   "cell_type": "code",
   "execution_count": 20,
   "metadata": {},
   "outputs": [
    {
     "name": "stdout",
     "output_type": "stream",
     "text": [
      "Mi dirección es: Calle de la Nueva Vida,48,Madrid,28034\n"
     ]
    }
   ],
   "source": [
    "calle = \"Calle de la Nueva Vida\"\n",
    "numero = \"48\"\n",
    "poblacion = \"Madrid\" \n",
    "codigopostal = \"28034\"\n",
    "Direccion = calle + \",\"+ numero + \",\" + poblacion + \",\" + codigopostal\n",
    "print(\"Mi dirección es:\", Direccion)"
   ]
  },
  {
   "cell_type": "markdown",
   "metadata": {},
   "source": [
    "## Ejercicio 3\n",
    "Replica el output del ejercicio dos, pero está vez sin usar una variable intermedia que concatene todas las demas. Realiza este ejercicio en una línea, con un  único `print`"
   ]
  },
  {
   "cell_type": "code",
   "execution_count": 21,
   "metadata": {},
   "outputs": [
    {
     "name": "stdout",
     "output_type": "stream",
     "text": [
      "calle: Calle de la Nueva Vida, numero: 48, poblacion: Madrid, codigopostal: 28080\n"
     ]
    }
   ],
   "source": [
    "print(f\"calle: {calle}, numero: {numero}, poblacion: {poblacion}, codigopostal: {codigo_postal}\")                          "
   ]
  },
  {
   "cell_type": "markdown",
   "metadata": {},
   "source": [
    "## Ejercicio 4\n",
    "¿Qué variables están mal escritas y por qué? Realiza primero tu hipótesis y luego ejecuta las variables para comprobarlo. En ese orden :)\n",
    "\n",
    "\n",
    "1. mi_variable = \"Economía\"\n",
    "2. otra_var = \"Ejercicio\n",
    "3. True = \"Ejercicio\"\n",
    "4. mi variab1e = \"Alpha\"\n",
    "5. exec = True\n",
    "6. import = 40\n",
    "7. 81mi_variable = \"Agua\"\n",
    "8. mi_variable10 = 6\n"
   ]
  },
  {
   "cell_type": "markdown",
   "metadata": {},
   "source": [
    "1. Bien escrita\n",
    "2. Falta la comilla de cierre del string\n",
    "3. True es un valor propio dem python que no se puiede designar como variable \n",
    "4. Las variables no llevan espacios\n",
    "5. No lo sabía pero exec es una palabra propia de python, igual que en la 3.\n",
    "6. Se importan modulos de bibliotecas, no numeros\n",
    "7. Vars no contienen números\n",
    "8. Vars no contienen números"
   ]
  },
  {
   "cell_type": "markdown",
   "metadata": {},
   "source": [
    "## Ejercicio 5\n",
    "Realiza un conversor de grados Celsius a Fahrenheit. El conversor tiene que recibir el input del usuario y devolver la conversión.\n",
    "\n",
    "La conversión de grados sigue la siguiente fórmula: F = (C × 9 / 5) + 32 "
   ]
  },
  {
   "cell_type": "code",
   "execution_count": 23,
   "metadata": {},
   "outputs": [
    {
     "name": "stdout",
     "output_type": "stream",
     "text": [
      "Los 79.0 grados Celsius son 174.2 grados Fahrenheit.\n"
     ]
    }
   ],
   "source": [
    "celsius = float(input(\"Introduce la temperatura en Celsius:\"))\n",
    "fahrenheit = (celsius * 9/5) + 32\n",
    "print(f\"Los {celsius} grados Celsius son {fahrenheit} grados Fahrenheit.\")"
   ]
  },
  {
   "cell_type": "markdown",
   "metadata": {},
   "source": [
    "## Ejercicio 6\n",
    "Comenta en la medida de lo posible el Ejercicio 5. Será suficiente con poner al menos un comentario de línea, y otro multilínea"
   ]
  },
  {
   "cell_type": "code",
   "execution_count": 24,
   "metadata": {},
   "outputs": [
    {
     "name": "stdout",
     "output_type": "stream",
     "text": [
      "Los 78.0 grados Celsius son 172.4 grados Fahrenheit.\n"
     ]
    }
   ],
   "source": [
    "celsius = float(input(\"Introduce la temperatura en Celsius:\")) # Solicitamos al usuario los grados en Celsius\n",
    "fahrenheit = (celsius * 9/5) + 32 # Aplicamos la fórmula de conversión\n",
    "print(f\"Los {celsius} grados Celsius son {fahrenheit} grados Fahrenheit.\") # MuestrMostramos el resultado"
   ]
  }
 ],
 "metadata": {
  "kernelspec": {
   "display_name": "Python 3",
   "language": "python",
   "name": "python3"
  },
  "language_info": {
   "codemirror_mode": {
    "name": "ipython",
    "version": 3
   },
   "file_extension": ".py",
   "mimetype": "text/x-python",
   "name": "python",
   "nbconvert_exporter": "python",
   "pygments_lexer": "ipython3",
   "version": "3.10.11"
  }
 },
 "nbformat": 4,
 "nbformat_minor": 4
}
