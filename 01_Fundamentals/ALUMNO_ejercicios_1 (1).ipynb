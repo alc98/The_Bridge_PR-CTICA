{
 "cells": [
  {
   "cell_type": "markdown",
   "id": "bd4e174d",
   "metadata": {},
   "source": [
    "#### Ejercicio 1\n",
    "\n",
    "Escribe un programa que simule un libro de \"sigue tu propia aventura\".\n",
    "\n",
    "Solo se pide control de flujo y uso de print().\n",
    "El programa tiene dos variables:\n",
    "\n",
    "puerta --> es una variable de tipo entero\n",
    "\n",
    "amuleto --> es una variable booleana\n",
    "\n",
    "Si la puerta que eliges es la 1, imprime \"has perdido\"\n",
    "\n",
    "Si la puerta que eliges es la 2 y tienes el amuleto (verdadero), imprime \"has ganado\"\n",
    "\n",
    "En cualquier otro caso, imprime \"sigue jugando\"\n",
    "\n",
    "Haz este programa de dos formas: usando un AND y sin usar un AND\n",
    "\n",
    "Nota: no son necesarias funciones. Puedes declarar puerta y amuleto al principio de tu programa."
   ]
  },
  {
   "cell_type": "code",
   "execution_count": 1,
   "id": "22cc5bdf",
   "metadata": {},
   "outputs": [
    {
     "name": "stdout",
     "output_type": "stream",
     "text": [
      "has ganado\n"
     ]
    }
   ],
   "source": [
    "#AND\n",
    "\n",
    "puerta = 2\n",
    "amuleto = True\n",
    "\n",
    "if puerta == 1:\n",
    "    print(\"has perdido\")\n",
    "elif puerta == 2 and amuleto:\n",
    "    print(\"has ganado\")\n",
    "else:\n",
    "    print(\"sigue jugando\")\n",
    "        "
   ]
  },
  {
   "cell_type": "code",
   "execution_count": 2,
   "id": "aabbdd9a",
   "metadata": {},
   "outputs": [
    {
     "name": "stdout",
     "output_type": "stream",
     "text": [
      "has ganado\n"
     ]
    }
   ],
   "source": [
    "#SIN AND\n",
    "puerta = 2\n",
    "amuleto = True\n",
    "\n",
    "if puerta == 1:\n",
    "    print(\"has perdido\")\n",
    "elif puerta == 2:\n",
    "    if amuleto:\n",
    "        print(\"has ganado\")\n",
    "    else:\n",
    "        print(\"sigue jugando\")\n",
    "else:\n",
    "    print(\"sigue jugando\")"
   ]
  },
  {
   "cell_type": "markdown",
   "id": "11d90e03",
   "metadata": {},
   "source": [
    "#### Ejercicio 2\n",
    "\n",
    "Programa un diccionario vacío que se llame d.\n",
    "Añádele los siguientes claves y valores:\n",
    "\n",
    "\"id\" --> 1, \"hora\" --> \"mañana\", \"canciones_escuchadas\" --> una lista con 2 elementos que son \"canción1\" y \"canción2\"\n",
    "\n",
    "Imprime todas las claves, todos los valores y todos los pares clave-valor\n"
   ]
  },
  {
   "cell_type": "code",
   "execution_count": null,
   "id": "bc72d5dd",
   "metadata": {},
   "outputs": [],
   "source": [
    "d = {}\n",
    "\n",
    "d[\"id\"] = 1\n",
    "d[\"hora\"] = \"mañana\"\n",
    "d[\"canciones_escuchadas\"] = [\"canción1\", \"canción2\"]"
   ]
  },
  {
   "cell_type": "code",
   "execution_count": null,
   "id": "b75b1be6",
   "metadata": {},
   "outputs": [
    {
     "name": "stdout",
     "output_type": "stream",
     "text": [
      "Claves: dict_keys(['id', 'hora', 'canciones_escuchadas'])\n",
      "Valores: dict_values([1, 'mañana', ['canción1', 'canción2']])\n",
      "Pares clave-valor: dict_items([('id', 1), ('hora', 'mañana'), ('canciones_escuchadas', ['canción1', 'canción2'])])\n"
     ]
    }
   ],
   "source": [
    "print(\"Claves:\", d.keys())\n",
    "\n",
    "print(\"Valores:\", d.values())\n",
    "\n",
    "print(\"Par clave/valor:\", d.items())"
   ]
  },
  {
   "cell_type": "markdown",
   "metadata": {},
   "source": [
    "\n",
    "#### Ejercicio 3\n",
    "\n",
    "Crea una **función que reciba por parámetro** una lista de strings. Los strings pueden valer \"rojo\", \"verde\", \"amarillo\".\n",
    "\n",
    "La función debe devolver otra lista de strings, donde si el string original era \"rojo\" la salida debe ser \"stop\", si era \"verde\" la salida debe ser \"avance\" y si era \"amarillo\" debe ser \"precaución\"."
   ]
  },
  {
   "cell_type": "code",
   "execution_count": null,
   "id": "89369bb2",
   "metadata": {},
   "outputs": [],
   "source": [
    "def semaforo_traductor(lista_colores):\n",
    "    traduccion = {\"rojo\": \"stop\", \"verde\": \"avance\", \"amarillo\": \"precaución\"}\n",
    "    resultado = []\n",
    "    for color in lista_colores:\n",
    "        \n",
    "    return resultado"
   ]
  },
  {
   "cell_type": "code",
   "execution_count": null,
   "id": "7a214098",
   "metadata": {},
   "outputs": [],
   "source": [
    "colores_usuario = []\n",
    "\n",
    "while True:\n",
    "    entrada = input(\"rojo, verde, amarillo o 'salir' para terminar: \").lower()\n",
    "    if entrada == \"salir\":\n",
    "        break\n",
    "    colores_usuario.append(entrada)\n",
    "\n",
    "output = semaforo_traductor(colores_usuario)"
   ]
  },
  {
   "cell_type": "code",
   "execution_count": null,
   "id": "b1562ae1",
   "metadata": {},
   "outputs": [
    {
     "name": "stdout",
     "output_type": "stream",
     "text": [
      "Input: ['rojo', 'verde', 'amarillo']\n",
      "Output: ['stop', 'avance', 'precaución']\n"
     ]
    }
   ],
   "source": [
    "print(\"Input:\", colores_usuario)\n",
    "print(\"Output:\", output)"
   ]
  },
  {
   "cell_type": "markdown",
   "id": "460a4229",
   "metadata": {},
   "source": [
    "\n",
    "#### Ejercicio 4\n",
    "\n",
    "Crea un programa que simule un carrusel infantil.\n",
    "\n",
    "El carrusel infantil tiene 3 posibles cochecitos: barco - bomberos - avioneta (una variable global de tipo lista, fuera de tu función).\n",
    "\n",
    "Debes escribir una **FUNCIÓN** llamada carrusel que tenga dos parámetros de entrada: el cochecito que eliges (puede valer el string barco, bomberos o avioneta) y un segundo parámetro llamado vueltas que es un entero.\n",
    "\n",
    "Tu función carrusel NO debe retornar nada, pero debe llamar internamente a coloca(cochecito), ya te lo doy programado. Si sientas al niño en \"avioneta\" y pones 3 vueltas, la función debería imprimir:\n",
    "\n",
    "\"vuelta 1: avioneta - barco - bomberos\"\n",
    "\n",
    "\"vuelta 2: avioneta - barco - bomberos\"\n",
    "\n",
    "\"vuelta 3: avioneta - barco - bomberos\"\n",
    "\n",
    "Se valorará positivamente que haya **UN BUCLE WHILE**.\n",
    "Si no te acaba de funcionar llamando a coloca(cochecito) tras un tiempo prudencial, escribe tu código sin usarlo."
   ]
  },
  {
   "cell_type": "code",
   "execution_count": null,
   "id": "06b849b9",
   "metadata": {},
   "outputs": [],
   "source": [
    "cochecitos = [\"barco\", \"bomberos\", \"avioneta\"]\n",
    "\n",
    "\n",
    "def coloca(cochecito):\n",
    "    def coloca(cochecito):\n",
    "    return \" - \".join(cochecitos)"
   ]
  },
  {
   "cell_type": "code",
   "execution_count": null,
   "id": "3a054f1f",
   "metadata": {},
   "outputs": [
    {
     "name": "stdout",
     "output_type": "stream",
     "text": [
      "vuelta 1: avioneta - barco - bomberos\n",
      "vuelta 2: avioneta - barco - bomberos\n",
      "vuelta 3: avioneta - barco - bomberos\n"
     ]
    }
   ],
   "source": [
    "def carrusel(cochecito, vueltas):\n",
    "    i = 1\n",
    "    while i <= vueltas:\n",
    "        print(f\"vuelta {i}: {coloca(cochecito)}\")\n",
    "        i += 1\n",
    "\n",
    "carrusel(\"avioneta\", 3)"
   ]
  },
  {
   "cell_type": "markdown",
   "id": "b387a519",
   "metadata": {},
   "source": [
    "\n",
    "#### Ejercicio 5\n",
    "Crea un programa que pida una contraseña por teclado e indique si es correcta\n",
    "o incorrecta con un print(). La contraseña correcta es “python”. Si la contraseña era incorrecta la pide de nuevo hasta 3 veces como máximo. Si al tercer intento no se acierta, debe ponerse a None y poner en un print() que la cuenta se ha bloqueado. Si se consigue entrar, se muestra que es correcta en un print(). Debe haber como mínimo un **BUCLE WHILE**\n"
   ]
  },
  {
   "cell_type": "code",
   "execution_count": null,
   "id": "231eb389",
   "metadata": {},
   "outputs": [],
   "source": [
    "password_correcta = \"python\"\n",
    "intentos = 0\n",
    "max_intentos = 3\n",
    "password_usuario = \"\""
   ]
  },
  {
   "cell_type": "code",
   "execution_count": null,
   "id": "712c4bd5",
   "metadata": {},
   "outputs": [],
   "source": [
    "while intentos < max_intentos:\n",
    "    password_usuario = input(\"Ingresa contraseña: \")\n",
    "    intentos += 1\n",
    "    if password_usuario == password_correcta:\n",
    "        print(\"Contraseña correcta\")\n",
    "        break\n",
    "    else:\n",
    "        print(\"Contraseña incorrecta\")"
   ]
  },
  {
   "cell_type": "code",
   "execution_count": null,
   "id": "247b4d25",
   "metadata": {},
   "outputs": [
    {
     "name": "stdout",
     "output_type": "stream",
     "text": [
      "Contraseña incorrecta\n",
      "Contraseña incorrecta\n",
      "Contraseña correcta\n"
     ]
    }
   ],
   "source": [
    "if password_usuario != password_correcta:\n",
    "    password_usuario = None\n",
    "    print(\"Cuenta bloqueada\")\n"
   ]
  },
  {
   "cell_type": "markdown",
   "id": "abbb2218",
   "metadata": {},
   "source": [
    "#### Ejercicio 7\n",
    "\n",
    "Usando el map de programación funcional y la buit-in function reversed (como mínimo):\n",
    "\n",
    "Escribe un programa que recibe una lista de strings y devuelve una tupla con cada string dado la vuelta. **NO SE PUEDEN USAR BUCLES**\n",
    "\n",
    "Ejemplo:\n",
    "\n",
    "[\"hola\", \"adiós\"] --> (\"aloh\", \"sóida\")\n",
    "\n",
    "Pista: si yo fuera tú, usaría un método de los string que sirve para unir, ¡y usaría más de un map!"
   ]
  },
  {
   "cell_type": "code",
   "execution_count": 1,
   "id": "1eacf961",
   "metadata": {},
   "outputs": [
    {
     "name": "stdout",
     "output_type": "stream",
     "text": [
      "('aloh', 'soida')\n"
     ]
    }
   ],
   "source": [
    "lista_strings = [\"hola\", \"adios\"]\n",
    "\n",
    "invertid = tuple(map(lambda s: \"\".join(reversed(s)), lista_strings))\n",
    "\n",
    "print(invertid)"
   ]
  }
 ],
 "metadata": {
  "kernelspec": {
   "display_name": "Python 3",
   "language": "python",
   "name": "python3"
  },
  "language_info": {
   "codemirror_mode": {
    "name": "ipython",
    "version": 3
   },
   "file_extension": ".py",
   "mimetype": "text/x-python",
   "name": "python",
   "nbconvert_exporter": "python",
   "pygments_lexer": "ipython3",
   "version": "3.10.11"
  }
 },
 "nbformat": 4,
 "nbformat_minor": 5
}
