{
 "cells": [
  {
   "cell_type": "markdown",
   "metadata": {},
   "source": [
    "![imagen](./img/ejercicios.png)"
   ]
  },
  {
   "cell_type": "markdown",
   "metadata": {},
   "source": [
    "## Ejercicio 1\n",
    "Dada la siguiente lista:\n",
    "> ```ejer_1 = [1,2,3,4,5]```\n",
    "\n",
    "Inviértela para que quede de la siguiente manera\n",
    "> ```ejer_1 = [5,4,3,2,1]```"
   ]
  },
  {
   "cell_type": "code",
   "execution_count": null,
   "metadata": {},
   "outputs": [
    {
     "name": "stdout",
     "output_type": "stream",
     "text": [
      "[5, 4, 3, 2, 1]\n"
     ]
    }
   ],
   "source": [
    "ejer_1 = [1, 2, 3, 4, 5]\n",
    "\n",
    "ejer_1.reverse()\n",
    "\n",
    "print(ejer_1)\n"
   ]
  },
  {
   "cell_type": "markdown",
   "metadata": {},
   "source": [
    "## Ejercicio 2\n",
    "Eleva todos los elementos de la lista al cuadrado\n",
    "> ```ejer_2 = [1,2,3,4,5]```"
   ]
  },
  {
   "cell_type": "code",
   "execution_count": null,
   "metadata": {},
   "outputs": [
    {
     "name": "stdout",
     "output_type": "stream",
     "text": [
      "[1, 4, 9, 16, 25]\n"
     ]
    }
   ],
   "source": [
    "ejer_2 = [1, 2, 3, 4, 5]\n",
    "\n",
    "ejer_2 = [x**2 for x in ejer_2]\n",
    "\n",
    "print(ejer_2)"
   ]
  },
  {
   "cell_type": "markdown",
   "metadata": {},
   "source": [
    "## Ejercicio 3\n",
    "Crea una lista nueva con todas las combinaciones de las siguientes dos listas:\n",
    "> ```ejer_3_1 = [\"Hola\", \"amigo\"]```\n",
    ">\n",
    "> ```ejer_3_2 = [\"Que\", \"tal\"]```\n",
    "\n",
    "Obten el siguiente output:\n",
    "\n",
    "['Hola Que', 'Hola tal', 'amigo Que', 'amigo tal']"
   ]
  },
  {
   "cell_type": "code",
   "execution_count": null,
   "metadata": {},
   "outputs": [
    {
     "name": "stdout",
     "output_type": "stream",
     "text": [
      "['Hola Que', 'Hola tal', 'amigo Que', 'amigo tal']\n"
     ]
    }
   ],
   "source": [
    "\n",
    "ejer_3_1 = [\"Hola\", \"amigo\"]\n",
    "ejer_3_2 = [\"Que\", \"tal\"]\n",
    "\n",
    "combinaciones = [a + \" \" + b for a in ejer_3_1 for b in ejer_3_2]\n",
    "\n",
    "print(combinaciones)\n"
   ]
  },
  {
   "cell_type": "markdown",
   "metadata": {},
   "source": [
    "## Ejercicio 4\n",
    "Dada la siguiente lista, encuentra el índice del valor 45 y sustitúyelo por el 0\n",
    "> ```ejer_4 = [20, 47, 19, 29, 45, 67, 78, 90]```"
   ]
  },
  {
   "cell_type": "code",
   "execution_count": null,
   "metadata": {},
   "outputs": [
    {
     "name": "stdout",
     "output_type": "stream",
     "text": [
      "[20, 47, 19, 29, 0, 67, 78, 90]\n"
     ]
    }
   ],
   "source": [
    "ejer_4 = [20, 47, 19, 29, 45, 67, 78, 90]\n",
    "\n",
    "indice = ejer_4.index(45)\n",
    "\n",
    "ejer_4[indice] = 0\n",
    "\n",
    "print(ejer_4)"
   ]
  },
  {
   "attachments": {},
   "cell_type": "markdown",
   "metadata": {},
   "source": [
    "## Ejercicio 5\n",
    "Dada la siguiente lista, elimina todos los valores iguales a 3\n",
    "> ```ejer_5 = [3, 20, 3, 47, 19, 3, 29, 45, 67, 78, 90, 3, 3]```\n",
    "\n",
    "Consejo: No intentes eliminar elementos sobre la lista que estás iterando. Haz una copia con `ejer_5.copy()`."
   ]
  },
  {
   "cell_type": "code",
   "execution_count": null,
   "metadata": {},
   "outputs": [
    {
     "name": "stdout",
     "output_type": "stream",
     "text": [
      "[20, 47, 19, 29, 45, 67, 78, 90]\n"
     ]
    }
   ],
   "source": [
    "ejer_5 = [3, 20, 3, 47, 19, 3, 29, 45, 67, 78, 90, 3, 3]\n",
    "\n",
    "\n",
    "lista_copia = ejer_5.copy()\n",
    "\n",
    "\n",
    "for valor in lista_copia:\n",
    "    if valor == 3:\n",
    "        ejer_5.remove(valor)\n",
    "\n",
    "print(ejer_5)\n"
   ]
  },
  {
   "cell_type": "code",
   "execution_count": 2,
   "metadata": {},
   "outputs": [
    {
     "name": "stdout",
     "output_type": "stream",
     "text": [
      "3\n",
      "[20, 3, 47, 19, 3, 3, 29, 45, 67, 78, 90, 3, 3]\n",
      "20\n",
      "[20, 3, 47, 19, 3, 3, 29, 45, 67, 78, 90, 3, 3]\n",
      "3\n",
      "[20, 47, 19, 3, 3, 29, 45, 67, 78, 90, 3, 3]\n",
      "47\n",
      "[20, 47, 19, 3, 3, 29, 45, 67, 78, 90, 3, 3]\n",
      "19\n",
      "[20, 47, 19, 3, 3, 29, 45, 67, 78, 90, 3, 3]\n",
      "3\n",
      "[20, 47, 19, 3, 29, 45, 67, 78, 90, 3, 3]\n",
      "3\n",
      "[20, 47, 19, 29, 45, 67, 78, 90, 3, 3]\n",
      "29\n",
      "[20, 47, 19, 29, 45, 67, 78, 90, 3, 3]\n",
      "45\n",
      "[20, 47, 19, 29, 45, 67, 78, 90, 3, 3]\n",
      "67\n",
      "[20, 47, 19, 29, 45, 67, 78, 90, 3, 3]\n",
      "78\n",
      "[20, 47, 19, 29, 45, 67, 78, 90, 3, 3]\n",
      "90\n",
      "[20, 47, 19, 29, 45, 67, 78, 90, 3, 3]\n",
      "3\n",
      "[20, 47, 19, 29, 45, 67, 78, 90, 3]\n",
      "3\n",
      "[20, 47, 19, 29, 45, 67, 78, 90]\n",
      "[20, 47, 19, 29, 45, 67, 78, 90]\n"
     ]
    }
   ],
   "source": []
  },
  {
   "cell_type": "markdown",
   "metadata": {},
   "source": [
    "## Ejercicio 6\n",
    "1. Crea una tupla con 3 elementos\n",
    "2. Crea otra tupla con un elemento y comprueba su tipo\n",
    "3. Crea una tupla con elementos de diferentes tipos\n",
    "4. Imprime por pantalla el primer y ultimo elemento de la tupla del apartado 3. Usa `len` para el ultimo\n",
    "5. Añade un elemento a la tupla del apartado 3.\n",
    "6. Eliminar un elemento de la tupla del apartado 5, que se encuentre más o menos en la mitad.\n",
    "7. Convierte la tupla del apartado 5 en una lista"
   ]
  },
  {
   "cell_type": "code",
   "execution_count": null,
   "metadata": {},
   "outputs": [],
   "source": [
    "tupla_1 = (10, 20, 30)\n",
    "print(\"Tupla 1:\", tupla_1)"
   ]
  },
  {
   "cell_type": "code",
   "execution_count": null,
   "metadata": {},
   "outputs": [],
   "source": [
    "tupla_2 = (50,)  # ¡Importante la coma! Si no, no es una tupla\n",
    "print(\"Tupla 2:\", tupla_2)\n",
    "print(\"Tipo de tupla_2:\", type(tupla_2))"
   ]
  },
  {
   "cell_type": "code",
   "execution_count": null,
   "metadata": {},
   "outputs": [],
   "source": [
    "tupla_3 = (\"Hola\", 123, 4.56, True)\n",
    "print(\"Tupla 3:\", tupla_3)"
   ]
  },
  {
   "cell_type": "code",
   "execution_count": null,
   "metadata": {},
   "outputs": [],
   "source": [
    "print(\"Primer elemento:\", tupla_3[0])\n",
    "print(\"Último elemento:\", tupla_3[len(tupla_3) - 1])"
   ]
  },
  {
   "cell_type": "code",
   "execution_count": null,
   "metadata": {},
   "outputs": [],
   "source": [
    "tupla_3 = tupla_3 + (\"Nuevo\",)\n",
    "print(\"Tupla 3 después de añadir un elemento:\", tupla_3)"
   ]
  },
  {
   "cell_type": "code",
   "execution_count": null,
   "metadata": {},
   "outputs": [],
   "source": [
    "lista_temp = list(tupla_3)\n",
    "del lista_temp[len(lista_temp) // 2]  # elimina el elemento del medio\n",
    "tupla_3 = tuple(lista_temp)\n",
    "print(\"Tupla 3 después de eliminar un elemento:\", tupla_3)"
   ]
  },
  {
   "cell_type": "code",
   "execution_count": null,
   "metadata": {},
   "outputs": [
    {
     "name": "stdout",
     "output_type": "stream",
     "text": [
      "Tupla 1: (10, 20, 30)\n",
      "Tupla 2: (50,)\n",
      "Tipo de tupla_2: <class 'tuple'>\n",
      "Tupla 3: ('Hola', 123, 4.56, True)\n",
      "Primer elemento: Hola\n",
      "Último elemento: True\n",
      "Tupla 3 después de añadir un elemento: ('Hola', 123, 4.56, True, 'Nuevo')\n",
      "Tupla 3 después de eliminar un elemento: ('Hola', 123, True, 'Nuevo')\n",
      "Lista final: ['Hola', 123, True, 'Nuevo']\n"
     ]
    }
   ],
   "source": [
    "lista_final = list(tupla_3)\n",
    "print(\"Lista final:\", lista_final)"
   ]
  },
  {
   "cell_type": "code",
   "execution_count": 9,
   "metadata": {},
   "outputs": [
    {
     "name": "stdout",
     "output_type": "stream",
     "text": [
      "(1, 2, 3)\n",
      "(4,)\n",
      "<class 'tuple'>\n",
      "('a', 5, True, 7.0)\n",
      "a\n",
      "7.0\n",
      "('a', 5, True, 7.0, 8)\n",
      "('a', 5, 7.0, 8)\n",
      "['a', 5, True, 7.0, 8]\n"
     ]
    }
   ],
   "source": []
  },
  {
   "cell_type": "markdown",
   "metadata": {},
   "source": [
    "## Ejercicio 7\n",
    "Concatena todos los elementos de la tupla en un unico string. Para ello utiliza el metodo `.join()` de los Strings\n",
    "> ```ejer_7 = (\"cien\", \"cañones\", \"por\", \"banda\")```\n",
    "\n",
    "Resultado: `cien cañones por banda`"
   ]
  },
  {
   "cell_type": "code",
   "execution_count": null,
   "metadata": {},
   "outputs": [
    {
     "name": "stdout",
     "output_type": "stream",
     "text": [
      "cien cañones por banda\n"
     ]
    }
   ],
   "source": [
    "ejer_7 = (\"cien\", \"cañones\", \"por\", \"banda\")\n",
    "\n",
    "resultado = \" \".join(ejer_7)\n",
    "\n",
    "print(resultado)"
   ]
  },
  {
   "cell_type": "markdown",
   "metadata": {},
   "source": [
    "## Ejercicio 8\n",
    "Obten el tercer elemento de la siguiente tupla, y el tercero empezando por la cola\n",
    "> ```ejer_8 = (3, 20, 3, 47, 19, 3, 29, 45, 67, 78, 90, 3, 3)```"
   ]
  },
  {
   "cell_type": "code",
   "execution_count": 20,
   "metadata": {},
   "outputs": [
    {
     "name": "stdout",
     "output_type": "stream",
     "text": [
      "Tercer elemento: 3\n",
      "Tercer elemento desde el final: 90\n"
     ]
    }
   ],
   "source": [
    "ejer_8 = (3, 20, 3, 47, 19, 3, 29, 45, 67, 78, 90, 3, 3)\n",
    "\n",
    "tercero = ejer_8[2]\n",
    "\n",
    "tercero_ultimo = ejer_8[-3]\n",
    "\n",
    "print(\"Tercer elemento:\", tercero)\n",
    "print(\"Tercer elemento desde el final:\", tercero_ultimo)"
   ]
  },
  {
   "cell_type": "markdown",
   "metadata": {},
   "source": [
    "## Ejercicio 9\n",
    "1. ¿Cuántas veces se repite el 3 en la siguiente tupla?\n",
    "2. Crea una tupla nueva con los elementos desde la posicion 5 a la 10.\n",
    "3. ¿Cuántos elementos tiene la tupla `ejer_9`?\n",
    "> ```ejer_9 = (3, 20, 3, 47, 19, 3, 29, 45, 67, 78, 90, 3, 3, 5, 2, 4, 7, 9, 4, 2, 4, 3, 3, 4, 6, 7)```"
   ]
  },
  {
   "cell_type": "code",
   "execution_count": null,
   "metadata": {},
   "outputs": [
    {
     "name": "stdout",
     "output_type": "stream",
     "text": [
      "El número 3 se repite: 7 veces\n",
      "Elementos de la posición 5 a la 10: (3, 29, 45, 67, 78, 90)\n",
      "La tupla ejer_9 tiene 26 elementos\n"
     ]
    }
   ],
   "source": [
    "\n",
    "ejer_9 = (3, 20, 3, 47, 19, 3, 29, 45, 67, 78, 90, 3, 3, 5, 2, 4, 7, 9, 4, 2, 4, 3, 3, 4, 6, 7)\n",
    "\n",
    "\n",
    "repeticiones = ejer_9.count(3)\n",
    "print(\"El número 3 se repite:\", repeticiones, \"veces\")\n",
    "\n",
    "\n",
    "sub_tupla = ejer_9[5:11]\n",
    "print(\"Elementos de la posición 5 a la 10:\", sub_tupla)\n",
    "\n",
    "\n",
    "longitud = len(ejer_9)\n",
    "print(\"La tupla ejer_9 tiene\", longitud, \"elementos\")"
   ]
  },
  {
   "cell_type": "markdown",
   "metadata": {},
   "source": [
    "## Ejercicio 10\n",
    "Comprueba si el numero 60 esta en la tupla del ejercicio 9"
   ]
  },
  {
   "cell_type": "code",
   "execution_count": null,
   "metadata": {},
   "outputs": [
    {
     "name": "stdout",
     "output_type": "stream",
     "text": [
      "El número 60 NO está en la tupla.\n"
     ]
    }
   ],
   "source": [
    "ejer_9 = (3, 20, 3, 47, 19, 3, 29, 45, 67, 78, 90, 3, 3, 5, 2, 4, 7, 9, 4, 2, 4, 3, 3, 4, 6, 7)\n",
    "\n",
    "if 60 in ejer_9:\n",
    "    print(\"El número 60 SÍ está en la tupla.\")\n",
    "else:\n",
    "    print(\"El número 60 NO está en la tupla.\")\n",
    "\n"
   ]
  },
  {
   "cell_type": "markdown",
   "metadata": {},
   "source": [
    "## Ejercicio 11\n",
    "1. Convierte la tupla del apartado 10 en una lista\n",
    "2. Convierte la tupla del apartado 10 en un set\n",
    "3. Convierte la tupla del apartado 10 en un diccionario. Usa también los indices"
   ]
  },
  {
   "cell_type": "code",
   "execution_count": null,
   "metadata": {},
   "outputs": [
    {
     "name": "stdout",
     "output_type": "stream",
     "text": [
      "Lista: [3, 20, 3, 47, 19, 3, 29, 45, 67, 78, 90, 3, 3, 5, 2, 4, 7, 9, 4, 2, 4, 3, 3, 4, 6, 7]\n",
      "Set: {2, 3, 67, 5, 4, 7, 6, 9, 45, 78, 47, 19, 20, 90, 29}\n",
      "Diccionario: {0: 3, 1: 20, 2: 3, 3: 47, 4: 19, 5: 3, 6: 29, 7: 45, 8: 67, 9: 78, 10: 90, 11: 3, 12: 3, 13: 5, 14: 2, 15: 4, 16: 7, 17: 9, 18: 4, 19: 2, 20: 4, 21: 3, 22: 3, 23: 4, 24: 6, 25: 7}\n"
     ]
    }
   ],
   "source": [
    "\n",
    "ejer_9 = (3, 20, 3, 47, 19, 3, 29, 45, 67, 78, 90, 3, 3, 5, 2, 4, 7, 9, 4, 2, 4, 3, 3, 4, 6, 7)\n",
    "\n",
    "\n",
    "lista = list(ejer_9)\n",
    "print(\"Lista:\", lista)\n",
    "\n",
    "\n",
    "conjunto = set(ejer_9)\n",
    "print(\"Set:\", conjunto)\n",
    "\n",
    "\n",
    "diccionario = dict(enumerate(ejer_9))\n",
    "print(\"Diccionario:\", diccionario)\n"
   ]
  },
  {
   "cell_type": "markdown",
   "metadata": {},
   "source": [
    "## Ejercicio 12\n",
    "Convierte la siguiente tupla en un diccionario\n",
    "> ```ejer_12 = [(\"x\", 1), (\"x\", 2), (\"x\", 3), (\"y\", 1), (\"y\", 2), (\"z\", 1)]```\n",
    "\n",
    "TIP: Puedes usar dos variables de control en un bucle `for`. Una por cada valor de las tuplas."
   ]
  },
  {
   "cell_type": "code",
   "execution_count": null,
   "metadata": {},
   "outputs": [
    {
     "name": "stdout",
     "output_type": "stream",
     "text": [
      "{'x': [1, 2, 3], 'y': [1, 2], 'z': [1]}\n"
     ]
    }
   ],
   "source": [
    "\n",
    "ejer_12 = [(\"x\", 1), (\"x\", 2), (\"x\", 3), (\"y\", 1), (\"y\", 2), (\"z\", 1)]\n",
    "\n",
    "diccionario = {}\n",
    "\n",
    "\n",
    "for clave, valor in ejer_12:\n",
    "    \n",
    "    if clave not in diccionario:\n",
    "        diccionario[clave] = []\n",
    "   \n",
    "    diccionario[clave].append(valor)\n",
    "\n",
    "print(diccionario)\n"
   ]
  },
  {
   "cell_type": "code",
   "execution_count": null,
   "metadata": {},
   "outputs": [
    {
     "name": "stdout",
     "output_type": "stream",
     "text": [
      "{'x': 3, 'y': 2, 'z': 1}\n"
     ]
    }
   ],
   "source": [
    "ejer_12 = [(\"x\", 1), (\"x\", 2), (\"x\", 3), (\"y\", 1), (\"y\", 2), (\"z\", 1)]\n",
    "\n",
    "contador = {}\n",
    "\n",
    "\n",
    "for clave, valor in ejer_12:\n",
    "    \n",
    "    if clave not in contador:\n",
    "        contador[clave] = 0\n",
    "    \n",
    "    contador[clave] += 1\n",
    "\n",
    "print(contador)\n"
   ]
  },
  {
   "cell_type": "code",
   "execution_count": 10,
   "metadata": {},
   "outputs": [
    {
     "data": {
      "text/plain": [
       "{'x': 3, 'y': 2, 'z': 1}"
      ]
     },
     "execution_count": 10,
     "metadata": {},
     "output_type": "execute_result"
    }
   ],
   "source": []
  },
  {
   "cell_type": "code",
   "execution_count": null,
   "metadata": {},
   "outputs": [
    {
     "name": "stdout",
     "output_type": "stream",
     "text": [
      "3\n"
     ]
    }
   ],
   "source": [
    "dicc = {'x': 3, 'y': 2, 'z': 1}\n",
    "\n",
    "'\n",
    "print(dicc['x'])\n"
   ]
  },
  {
   "cell_type": "markdown",
   "metadata": {},
   "source": [
    "## Ejercicio 13\n",
    "1. Crea una lista ordenada ascendente con las claves del diccionario\n",
    "2. Crea otra lista ordenada descendente con los valores\n",
    "3. Añade una nueva clave/valor\n",
    "4. Busca la clave 2 dentro del diccionario\n",
    "5. Itera la clave y el valor del diccionario con un unico for\n",
    "> ```ejer_13 = {4:78, 2:98, 8:234, 5:29}```"
   ]
  },
  {
   "cell_type": "code",
   "execution_count": null,
   "metadata": {},
   "outputs": [],
   "source": [
    "ejer_13 = {4: 78, 2: 98, 8: 234, 5: 29}\n",
    "\n",
    "\n",
    "claves_asc = sorted(ejer_13.keys())\n",
    "print(\"Claves ordenadas ascendentemente:\", claves_asc)\n",
    "\n",
    "\n",
    "valores_desc = sorted(ejer_13.values(), reverse=True)\n",
    "print(\"Valores ordenados descendentemente:\", valores_desc)\n",
    "\n",
    "\n",
    "ejer_13[10] = 500\n",
    "print(\"Diccionario con nuevo elemento:\", ejer_13)"
   ]
  },
  {
   "cell_type": "code",
   "execution_count": null,
   "metadata": {},
   "outputs": [
    {
     "name": "stdout",
     "output_type": "stream",
     "text": [
      "Claves ordenadas ascendentemente: [2, 4, 5, 8]\n",
      "Valores ordenados descendentemente: [234, 98, 78, 29]\n",
      "Diccionario con nuevo elemento: {4: 78, 2: 98, 8: 234, 5: 29, 10: 500}\n",
      "La clave 2 está presente con valor: 98\n",
      "Iterando claves y valores:\n",
      "Clave: 4, Valor: 78\n",
      "Clave: 2, Valor: 98\n",
      "Clave: 8, Valor: 234\n",
      "Clave: 5, Valor: 29\n",
      "Clave: 10, Valor: 500\n"
     ]
    }
   ],
   "source": [
    "\n",
    "if 2 in ejer_13:\n",
    "    print(\"La clave 2 está presente con valor:\", ejer_13[2])\n",
    "else:\n",
    "    print(\"La clave 2 no está en el diccionario.\")\n",
    "\n",
    "\n",
    "print(\"Iterando claves y valores:\")\n",
    "for clave, valor in ejer_13.items():\n",
    "    print(f\"Clave: {clave}, Valor: {valor}\")\n"
   ]
  },
  {
   "cell_type": "code",
   "execution_count": null,
   "metadata": {},
   "outputs": [],
   "source": []
  },
  {
   "cell_type": "code",
   "execution_count": null,
   "metadata": {},
   "outputs": [
    {
     "name": "stdout",
     "output_type": "stream",
     "text": [
      "[2, 4, 5, 8]\n",
      "[234, 98, 78, 29]\n",
      "{4: 78, 2: 98, 8: 234, 5: 29, 9: 65}\n",
      "True\n",
      "Clave: 4, Valor -> 78\n",
      "Clave: 2, Valor -> 98\n",
      "Clave: 8, Valor -> 234\n",
      "Clave: 5, Valor -> 29\n",
      "Clave: 9, Valor -> 65\n"
     ]
    }
   ],
   "source": [
    "\n"
   ]
  },
  {
   "cell_type": "markdown",
   "metadata": {},
   "source": [
    "## Ejercicio 14\n",
    "Junta ambos diccionarios. Para ello, utiliza `update`\n",
    "> ```ejer_14_1 = {1: 11, 2: 22}```\n",
    ">\n",
    "> ```ejer_14_2 = {3: 33, 4: 44}```"
   ]
  },
  {
   "cell_type": "code",
   "execution_count": null,
   "metadata": {},
   "outputs": [
    {
     "name": "stdout",
     "output_type": "stream",
     "text": [
      "Diccionario combinado: {1: 11, 2: 22, 3: 33, 4: 44}\n"
     ]
    }
   ],
   "source": [
    "ejer_14_1 = {1: 11, 2: 22}\n",
    "ejer_14_2 = {3: 33, 4: 44}\n",
    "\n",
    "ejer_14_1.update(ejer_14_2)\n",
    "\n",
    "print(\"Diccionario combinado:\", ejer_14_1)\n"
   ]
  },
  {
   "cell_type": "markdown",
   "metadata": {},
   "source": [
    "## Ejercicio 15\n",
    "Suma todos los valores del dicionario\n",
    "> ```ejer_15 = {1: 11, 2: 22, 3: 33, 4: 44, 5: 55}```"
   ]
  },
  {
   "cell_type": "code",
   "execution_count": null,
   "metadata": {},
   "outputs": [
    {
     "name": "stdout",
     "output_type": "stream",
     "text": [
      "La suma de todos los valores es: 165\n"
     ]
    }
   ],
   "source": [
    "ejer_15 = {1: 11, 2: 22, 3: 33, 4: 44, 5: 55}\n",
    "\n",
    "resultado = sum(ejer_15.values())\n",
    "\n",
    "print(\"La suma de todos los valores es:\", resultado)\n"
   ]
  },
  {
   "cell_type": "markdown",
   "metadata": {},
   "source": [
    "## Ejercicio 16\n",
    "Multiplica todos los valores del diccionario\n",
    "> ```ejer_16 = {1: 11, 2: 22, 3: 33, 4: 44, 5: 55}```"
   ]
  },
  {
   "cell_type": "code",
   "execution_count": null,
   "metadata": {},
   "outputs": [
    {
     "name": "stdout",
     "output_type": "stream",
     "text": [
      "El resultado de multiplicar todos los valores es: 19326120\n"
     ]
    }
   ],
   "source": [
    "ejer_16 = {1: 11, 2: 22, 3: 33, 4: 44, 5: 55}\n",
    "\n",
    "resultado = 1\n",
    "for valor in ejer_16.values():\n",
    "    resultado *= valor\n",
    "\n",
    "print(\"El resultado de multiplicar todos los valores es:\", resultado)\n"
   ]
  },
  {
   "cell_type": "markdown",
   "metadata": {},
   "source": [
    "## Ejercicio 17\n",
    "1. Crea un set de tres elementos\n",
    "2. Añade un cuarto\n",
    "3. Elimina el utlimo elemento añadido\n",
    "4. Elimina el elemento 10, si está presente. Usa `discard()`"
   ]
  },
  {
   "cell_type": "code",
   "execution_count": null,
   "metadata": {},
   "outputs": [
    {
     "name": "stdout",
     "output_type": "stream",
     "text": [
      "Set inicial: {1, 5, 9}\n",
      "Después de añadir 10: {1, 10, 5, 9}\n",
      "Después de eliminar 10: {1, 5, 9}\n",
      "Después de usar discard(10): {1, 5, 9}\n"
     ]
    }
   ],
   "source": [
    "numeros = {1, 5, 9}\n",
    "print(\"Set inicial:\", numeros)\n",
    "\n",
    "numeros.add(10)\n",
    "print(\"Después de añadir 10:\", numeros)\n",
    "\n",
    "numeros.remove(10)\n",
    "print(\"Después de eliminar 10:\", numeros)\n",
    "\n",
    "numeros.discard(10)\n",
    "print(\"Después de usar discard(10):\", numeros)"
   ]
  }
 ],
 "metadata": {
  "kernelspec": {
   "display_name": "Python 3",
   "language": "python",
   "name": "python3"
  },
  "language_info": {
   "codemirror_mode": {
    "name": "ipython",
    "version": 3
   },
   "file_extension": ".py",
   "mimetype": "text/x-python",
   "name": "python",
   "nbconvert_exporter": "python",
   "pygments_lexer": "ipython3",
   "version": "3.10.11"
  }
 },
 "nbformat": 4,
 "nbformat_minor": 4
}
